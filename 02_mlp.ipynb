{
 "cells": [
  {
   "cell_type": "markdown",
   "id": "96de8dbe",
   "metadata": {},
   "source": [
    "# MLP\n",
    "\n",
    "This notebook explores the classification of paintings from the ArtBench-10 dataset using a multilayer perceptron trained directly on image pixels.\n",
    "The goal is to evaluate how well a deep fully connected network can learn stylistic differences between art movements without relying on pretrained feature extractors."
   ]
  },
  {
   "cell_type": "code",
   "execution_count": 1,
   "id": "9dad78e3",
   "metadata": {
    "execution": {
     "iopub.execute_input": "2025-10-21T22:05:21.664620Z",
     "iopub.status.busy": "2025-10-21T22:05:21.664055Z",
     "iopub.status.idle": "2025-10-21T22:05:24.973874Z",
     "shell.execute_reply": "2025-10-21T22:05:24.973262Z"
    }
   },
   "outputs": [
    {
     "name": "stderr",
     "output_type": "stream",
     "text": [
      "WARNING: All log messages before absl::InitializeLog() is called are written to STDERR\n",
      "E0000 00:00:1761084322.456300  609115 cuda_dnn.cc:8579] Unable to register cuDNN factory: Attempting to register factory for plugin cuDNN when one has already been registered\n",
      "E0000 00:00:1761084322.487808  609115 cuda_blas.cc:1407] Unable to register cuBLAS factory: Attempting to register factory for plugin cuBLAS when one has already been registered\n",
      "W0000 00:00:1761084322.674636  609115 computation_placer.cc:177] computation placer already registered. Please check linkage and avoid linking the same target more than once.\n",
      "W0000 00:00:1761084322.674680  609115 computation_placer.cc:177] computation placer already registered. Please check linkage and avoid linking the same target more than once.\n",
      "W0000 00:00:1761084322.674684  609115 computation_placer.cc:177] computation placer already registered. Please check linkage and avoid linking the same target more than once.\n",
      "W0000 00:00:1761084322.674687  609115 computation_placer.cc:177] computation placer already registered. Please check linkage and avoid linking the same target more than once.\n"
     ]
    }
   ],
   "source": [
    "import os, random\n",
    "import numpy as np\n",
    "\n",
    "# Silence TensorFlow, XLA, cuDNN, and Abseil logs\n",
    "os.environ[\"TF_CPP_MIN_LOG_LEVEL\"] = \"3\"\n",
    "os.environ[\"ABSL_LOGGING_LEVEL\"] = \"fatal\"\n",
    "os.environ[\"TF_ENABLE_ONEDNN_OPTS\"] = \"0\"\n",
    "os.environ[\"CUDA_DEVICE_ORDER\"] = \"PCI_BUS_ID\"\n",
    "os.environ[\"TF_XLA_FLAGS\"] = \"--tf_xla_enable_xla_devices=false\"\n",
    "os.environ[\"XLA_FLAGS\"] = \"--xla_gpu_enable_triton_gemm=false\"\n",
    "\n",
    "import silence_tensorflow.auto\n",
    "\n",
    "import tensorflow as tf\n",
    "import absl.logging\n",
    "absl.logging.set_verbosity(absl.logging.ERROR)\n",
    "tf.get_logger().setLevel(\"ERROR\")\n",
    "tf.config.optimizer.set_jit(False)"
   ]
  },
  {
   "cell_type": "code",
   "execution_count": 2,
   "id": "cd6867f1",
   "metadata": {
    "execution": {
     "iopub.execute_input": "2025-10-21T22:05:24.977975Z",
     "iopub.status.busy": "2025-10-21T22:05:24.977730Z",
     "iopub.status.idle": "2025-10-21T22:05:24.981056Z",
     "shell.execute_reply": "2025-10-21T22:05:24.980576Z"
    }
   },
   "outputs": [],
   "source": [
    "SEED = 42\n",
    "tf.keras.utils.set_random_seed(SEED)\n",
    "random.seed(SEED)\n",
    "np.random.seed(SEED)"
   ]
  },
  {
   "cell_type": "code",
   "execution_count": 3,
   "id": "0225527c",
   "metadata": {
    "execution": {
     "iopub.execute_input": "2025-10-21T22:05:24.983487Z",
     "iopub.status.busy": "2025-10-21T22:05:24.983370Z",
     "iopub.status.idle": "2025-10-21T22:05:24.992084Z",
     "shell.execute_reply": "2025-10-21T22:05:24.991590Z"
    }
   },
   "outputs": [],
   "source": [
    "DATA_DIR   = \"data/artbench-10\"\n",
    "IMG_SIZE   = (64, 64)\n",
    "BATCH_SIZE = 256\n",
    "AUTOTUNE   = tf.data.AUTOTUNE\n",
    "VAL_SPLIT  = 0.2"
   ]
  },
  {
   "cell_type": "code",
   "execution_count": 4,
   "id": "71b1aace",
   "metadata": {
    "execution": {
     "iopub.execute_input": "2025-10-21T22:05:24.995010Z",
     "iopub.status.busy": "2025-10-21T22:05:24.994900Z",
     "iopub.status.idle": "2025-10-21T22:05:34.469538Z",
     "shell.execute_reply": "2025-10-21T22:05:34.468567Z"
    }
   },
   "outputs": [
    {
     "name": "stdout",
     "output_type": "stream",
     "text": [
      "Found 50000 files belonging to 10 classes.\n"
     ]
    },
    {
     "name": "stdout",
     "output_type": "stream",
     "text": [
      "Using 40000 files for training.\n"
     ]
    },
    {
     "name": "stderr",
     "output_type": "stream",
     "text": [
      "I0000 00:00:1761084329.701989  609115 gpu_device.cc:2019] Created device /job:localhost/replica:0/task:0/device:GPU:0 with 43500 MB memory:  -> device: 0, name: NVIDIA L40S, pci bus id: 0000:21:00.0, compute capability: 8.9\n"
     ]
    },
    {
     "name": "stdout",
     "output_type": "stream",
     "text": [
      "Found 50000 files belonging to 10 classes.\n"
     ]
    },
    {
     "name": "stdout",
     "output_type": "stream",
     "text": [
      "Using 10000 files for validation.\n"
     ]
    },
    {
     "name": "stdout",
     "output_type": "stream",
     "text": [
      "Found 10000 files belonging to 10 classes.\n"
     ]
    },
    {
     "name": "stdout",
     "output_type": "stream",
     "text": [
      "Classes (10): ['art_nouveau', 'baroque', 'expressionism', 'impressionism', 'post_impressionism', 'realism', 'renaissance', 'romanticism', 'surrealism', 'ukiyo_e']\n"
     ]
    }
   ],
   "source": [
    "train_ds = tf.keras.preprocessing.image_dataset_from_directory(\n",
    "    os.path.join(DATA_DIR, \"train\"),\n",
    "    validation_split=VAL_SPLIT,\n",
    "    subset=\"training\",\n",
    "    seed=SEED,\n",
    "    labels=\"inferred\",\n",
    "    label_mode=\"int\",\n",
    "    image_size=IMG_SIZE,\n",
    "    batch_size=BATCH_SIZE,\n",
    "    shuffle=True,\n",
    ")\n",
    "\n",
    "val_ds = tf.keras.preprocessing.image_dataset_from_directory(\n",
    "    os.path.join(DATA_DIR, \"train\"),\n",
    "    validation_split=VAL_SPLIT,\n",
    "    subset=\"validation\",\n",
    "    seed=SEED,\n",
    "    labels=\"inferred\",\n",
    "    label_mode=\"int\",\n",
    "    image_size=IMG_SIZE,\n",
    "    batch_size=BATCH_SIZE,\n",
    "    shuffle=False,\n",
    ")\n",
    "\n",
    "test_ds = tf.keras.preprocessing.image_dataset_from_directory(\n",
    "    os.path.join(DATA_DIR, \"test\"),\n",
    "    labels=\"inferred\",\n",
    "    label_mode=\"int\",\n",
    "    image_size=IMG_SIZE,\n",
    "    batch_size=BATCH_SIZE,\n",
    "    shuffle=False,\n",
    ")\n",
    "\n",
    "class_names = train_ds.class_names\n",
    "num_classes = len(class_names)\n",
    "print(f\"Classes ({num_classes}): {class_names}\")"
   ]
  },
  {
   "cell_type": "code",
   "execution_count": 5,
   "id": "9d7dc66f",
   "metadata": {
    "execution": {
     "iopub.execute_input": "2025-10-21T22:05:34.473291Z",
     "iopub.status.busy": "2025-10-21T22:05:34.473080Z",
     "iopub.status.idle": "2025-10-21T22:05:34.485102Z",
     "shell.execute_reply": "2025-10-21T22:05:34.484306Z"
    }
   },
   "outputs": [],
   "source": [
    "def prepare(ds, training=False):\n",
    "    if training:\n",
    "        ds = ds.shuffle(1000, seed=SEED)\n",
    "    ds = ds.prefetch(AUTOTUNE)\n",
    "    return ds\n",
    "\n",
    "train_ds = prepare(train_ds, training=True)\n",
    "val_ds   = prepare(val_ds,   training=False)\n",
    "test_ds  = prepare(test_ds,  training=False)"
   ]
  },
  {
   "cell_type": "markdown",
   "id": "a10e7bbc",
   "metadata": {},
   "source": [
    "We define a multilayer perceptron architecture for image classification with L2 weight regularization to prevent overfitting.\n",
    "The network takes 64×64 RGB images as input, rescales pixel values, and flattens them into a vector before passing through three dense layers with ReLU activation, batch normalization, and dropout.\n",
    "The final layer uses a softmax activation to output class probabilities.\n",
    "The model is compiled with the Adam optimizer and sparse categorical cross-entropy loss."
   ]
  },
  {
   "cell_type": "code",
   "execution_count": 6,
   "id": "06c2efdb",
   "metadata": {
    "execution": {
     "iopub.execute_input": "2025-10-21T22:05:34.488840Z",
     "iopub.status.busy": "2025-10-21T22:05:34.488547Z",
     "iopub.status.idle": "2025-10-21T22:05:34.986058Z",
     "shell.execute_reply": "2025-10-21T22:05:34.985516Z"
    }
   },
   "outputs": [
    {
     "data": {
      "text/html": [
       "<pre style=\"white-space:pre;overflow-x:auto;line-height:normal;font-family:Menlo,'DejaVu Sans Mono',consolas,'Courier New',monospace\"><span style=\"font-weight: bold\">Model: \"sequential\"</span>\n",
       "</pre>\n"
      ],
      "text/plain": [
       "\u001b[1mModel: \"sequential\"\u001b[0m\n"
      ]
     },
     "metadata": {},
     "output_type": "display_data"
    },
    {
     "data": {
      "text/html": [
       "<pre style=\"white-space:pre;overflow-x:auto;line-height:normal;font-family:Menlo,'DejaVu Sans Mono',consolas,'Courier New',monospace\">┏━━━━━━━━━━━━━━━━━━━━━━━━━━━━━━━━━┳━━━━━━━━━━━━━━━━━━━━━━━━┳━━━━━━━━━━━━━━━┓\n",
       "┃<span style=\"font-weight: bold\"> Layer (type)                    </span>┃<span style=\"font-weight: bold\"> Output Shape           </span>┃<span style=\"font-weight: bold\">       Param # </span>┃\n",
       "┡━━━━━━━━━━━━━━━━━━━━━━━━━━━━━━━━━╇━━━━━━━━━━━━━━━━━━━━━━━━╇━━━━━━━━━━━━━━━┩\n",
       "│ rescaling (<span style=\"color: #0087ff; text-decoration-color: #0087ff\">Rescaling</span>)           │ (<span style=\"color: #00d7ff; text-decoration-color: #00d7ff\">None</span>, <span style=\"color: #00af00; text-decoration-color: #00af00\">64</span>, <span style=\"color: #00af00; text-decoration-color: #00af00\">64</span>, <span style=\"color: #00af00; text-decoration-color: #00af00\">3</span>)      │             <span style=\"color: #00af00; text-decoration-color: #00af00\">0</span> │\n",
       "├─────────────────────────────────┼────────────────────────┼───────────────┤\n",
       "│ flatten (<span style=\"color: #0087ff; text-decoration-color: #0087ff\">Flatten</span>)               │ (<span style=\"color: #00d7ff; text-decoration-color: #00d7ff\">None</span>, <span style=\"color: #00af00; text-decoration-color: #00af00\">12288</span>)          │             <span style=\"color: #00af00; text-decoration-color: #00af00\">0</span> │\n",
       "├─────────────────────────────────┼────────────────────────┼───────────────┤\n",
       "│ dense (<span style=\"color: #0087ff; text-decoration-color: #0087ff\">Dense</span>)                   │ (<span style=\"color: #00d7ff; text-decoration-color: #00d7ff\">None</span>, <span style=\"color: #00af00; text-decoration-color: #00af00\">2048</span>)           │    <span style=\"color: #00af00; text-decoration-color: #00af00\">25,167,872</span> │\n",
       "├─────────────────────────────────┼────────────────────────┼───────────────┤\n",
       "│ batch_normalization             │ (<span style=\"color: #00d7ff; text-decoration-color: #00d7ff\">None</span>, <span style=\"color: #00af00; text-decoration-color: #00af00\">2048</span>)           │         <span style=\"color: #00af00; text-decoration-color: #00af00\">8,192</span> │\n",
       "│ (<span style=\"color: #0087ff; text-decoration-color: #0087ff\">BatchNormalization</span>)            │                        │               │\n",
       "├─────────────────────────────────┼────────────────────────┼───────────────┤\n",
       "│ dropout (<span style=\"color: #0087ff; text-decoration-color: #0087ff\">Dropout</span>)               │ (<span style=\"color: #00d7ff; text-decoration-color: #00d7ff\">None</span>, <span style=\"color: #00af00; text-decoration-color: #00af00\">2048</span>)           │             <span style=\"color: #00af00; text-decoration-color: #00af00\">0</span> │\n",
       "├─────────────────────────────────┼────────────────────────┼───────────────┤\n",
       "│ dense_1 (<span style=\"color: #0087ff; text-decoration-color: #0087ff\">Dense</span>)                 │ (<span style=\"color: #00d7ff; text-decoration-color: #00d7ff\">None</span>, <span style=\"color: #00af00; text-decoration-color: #00af00\">1024</span>)           │     <span style=\"color: #00af00; text-decoration-color: #00af00\">2,098,176</span> │\n",
       "├─────────────────────────────────┼────────────────────────┼───────────────┤\n",
       "│ batch_normalization_1           │ (<span style=\"color: #00d7ff; text-decoration-color: #00d7ff\">None</span>, <span style=\"color: #00af00; text-decoration-color: #00af00\">1024</span>)           │         <span style=\"color: #00af00; text-decoration-color: #00af00\">4,096</span> │\n",
       "│ (<span style=\"color: #0087ff; text-decoration-color: #0087ff\">BatchNormalization</span>)            │                        │               │\n",
       "├─────────────────────────────────┼────────────────────────┼───────────────┤\n",
       "│ dropout_1 (<span style=\"color: #0087ff; text-decoration-color: #0087ff\">Dropout</span>)             │ (<span style=\"color: #00d7ff; text-decoration-color: #00d7ff\">None</span>, <span style=\"color: #00af00; text-decoration-color: #00af00\">1024</span>)           │             <span style=\"color: #00af00; text-decoration-color: #00af00\">0</span> │\n",
       "├─────────────────────────────────┼────────────────────────┼───────────────┤\n",
       "│ dense_2 (<span style=\"color: #0087ff; text-decoration-color: #0087ff\">Dense</span>)                 │ (<span style=\"color: #00d7ff; text-decoration-color: #00d7ff\">None</span>, <span style=\"color: #00af00; text-decoration-color: #00af00\">512</span>)            │       <span style=\"color: #00af00; text-decoration-color: #00af00\">524,800</span> │\n",
       "├─────────────────────────────────┼────────────────────────┼───────────────┤\n",
       "│ batch_normalization_2           │ (<span style=\"color: #00d7ff; text-decoration-color: #00d7ff\">None</span>, <span style=\"color: #00af00; text-decoration-color: #00af00\">512</span>)            │         <span style=\"color: #00af00; text-decoration-color: #00af00\">2,048</span> │\n",
       "│ (<span style=\"color: #0087ff; text-decoration-color: #0087ff\">BatchNormalization</span>)            │                        │               │\n",
       "├─────────────────────────────────┼────────────────────────┼───────────────┤\n",
       "│ dropout_2 (<span style=\"color: #0087ff; text-decoration-color: #0087ff\">Dropout</span>)             │ (<span style=\"color: #00d7ff; text-decoration-color: #00d7ff\">None</span>, <span style=\"color: #00af00; text-decoration-color: #00af00\">512</span>)            │             <span style=\"color: #00af00; text-decoration-color: #00af00\">0</span> │\n",
       "├─────────────────────────────────┼────────────────────────┼───────────────┤\n",
       "│ dense_3 (<span style=\"color: #0087ff; text-decoration-color: #0087ff\">Dense</span>)                 │ (<span style=\"color: #00d7ff; text-decoration-color: #00d7ff\">None</span>, <span style=\"color: #00af00; text-decoration-color: #00af00\">10</span>)             │         <span style=\"color: #00af00; text-decoration-color: #00af00\">5,130</span> │\n",
       "└─────────────────────────────────┴────────────────────────┴───────────────┘\n",
       "</pre>\n"
      ],
      "text/plain": [
       "┏━━━━━━━━━━━━━━━━━━━━━━━━━━━━━━━━━┳━━━━━━━━━━━━━━━━━━━━━━━━┳━━━━━━━━━━━━━━━┓\n",
       "┃\u001b[1m \u001b[0m\u001b[1mLayer (type)                   \u001b[0m\u001b[1m \u001b[0m┃\u001b[1m \u001b[0m\u001b[1mOutput Shape          \u001b[0m\u001b[1m \u001b[0m┃\u001b[1m \u001b[0m\u001b[1m      Param #\u001b[0m\u001b[1m \u001b[0m┃\n",
       "┡━━━━━━━━━━━━━━━━━━━━━━━━━━━━━━━━━╇━━━━━━━━━━━━━━━━━━━━━━━━╇━━━━━━━━━━━━━━━┩\n",
       "│ rescaling (\u001b[38;5;33mRescaling\u001b[0m)           │ (\u001b[38;5;45mNone\u001b[0m, \u001b[38;5;34m64\u001b[0m, \u001b[38;5;34m64\u001b[0m, \u001b[38;5;34m3\u001b[0m)      │             \u001b[38;5;34m0\u001b[0m │\n",
       "├─────────────────────────────────┼────────────────────────┼───────────────┤\n",
       "│ flatten (\u001b[38;5;33mFlatten\u001b[0m)               │ (\u001b[38;5;45mNone\u001b[0m, \u001b[38;5;34m12288\u001b[0m)          │             \u001b[38;5;34m0\u001b[0m │\n",
       "├─────────────────────────────────┼────────────────────────┼───────────────┤\n",
       "│ dense (\u001b[38;5;33mDense\u001b[0m)                   │ (\u001b[38;5;45mNone\u001b[0m, \u001b[38;5;34m2048\u001b[0m)           │    \u001b[38;5;34m25,167,872\u001b[0m │\n",
       "├─────────────────────────────────┼────────────────────────┼───────────────┤\n",
       "│ batch_normalization             │ (\u001b[38;5;45mNone\u001b[0m, \u001b[38;5;34m2048\u001b[0m)           │         \u001b[38;5;34m8,192\u001b[0m │\n",
       "│ (\u001b[38;5;33mBatchNormalization\u001b[0m)            │                        │               │\n",
       "├─────────────────────────────────┼────────────────────────┼───────────────┤\n",
       "│ dropout (\u001b[38;5;33mDropout\u001b[0m)               │ (\u001b[38;5;45mNone\u001b[0m, \u001b[38;5;34m2048\u001b[0m)           │             \u001b[38;5;34m0\u001b[0m │\n",
       "├─────────────────────────────────┼────────────────────────┼───────────────┤\n",
       "│ dense_1 (\u001b[38;5;33mDense\u001b[0m)                 │ (\u001b[38;5;45mNone\u001b[0m, \u001b[38;5;34m1024\u001b[0m)           │     \u001b[38;5;34m2,098,176\u001b[0m │\n",
       "├─────────────────────────────────┼────────────────────────┼───────────────┤\n",
       "│ batch_normalization_1           │ (\u001b[38;5;45mNone\u001b[0m, \u001b[38;5;34m1024\u001b[0m)           │         \u001b[38;5;34m4,096\u001b[0m │\n",
       "│ (\u001b[38;5;33mBatchNormalization\u001b[0m)            │                        │               │\n",
       "├─────────────────────────────────┼────────────────────────┼───────────────┤\n",
       "│ dropout_1 (\u001b[38;5;33mDropout\u001b[0m)             │ (\u001b[38;5;45mNone\u001b[0m, \u001b[38;5;34m1024\u001b[0m)           │             \u001b[38;5;34m0\u001b[0m │\n",
       "├─────────────────────────────────┼────────────────────────┼───────────────┤\n",
       "│ dense_2 (\u001b[38;5;33mDense\u001b[0m)                 │ (\u001b[38;5;45mNone\u001b[0m, \u001b[38;5;34m512\u001b[0m)            │       \u001b[38;5;34m524,800\u001b[0m │\n",
       "├─────────────────────────────────┼────────────────────────┼───────────────┤\n",
       "│ batch_normalization_2           │ (\u001b[38;5;45mNone\u001b[0m, \u001b[38;5;34m512\u001b[0m)            │         \u001b[38;5;34m2,048\u001b[0m │\n",
       "│ (\u001b[38;5;33mBatchNormalization\u001b[0m)            │                        │               │\n",
       "├─────────────────────────────────┼────────────────────────┼───────────────┤\n",
       "│ dropout_2 (\u001b[38;5;33mDropout\u001b[0m)             │ (\u001b[38;5;45mNone\u001b[0m, \u001b[38;5;34m512\u001b[0m)            │             \u001b[38;5;34m0\u001b[0m │\n",
       "├─────────────────────────────────┼────────────────────────┼───────────────┤\n",
       "│ dense_3 (\u001b[38;5;33mDense\u001b[0m)                 │ (\u001b[38;5;45mNone\u001b[0m, \u001b[38;5;34m10\u001b[0m)             │         \u001b[38;5;34m5,130\u001b[0m │\n",
       "└─────────────────────────────────┴────────────────────────┴───────────────┘\n"
      ]
     },
     "metadata": {},
     "output_type": "display_data"
    },
    {
     "data": {
      "text/html": [
       "<pre style=\"white-space:pre;overflow-x:auto;line-height:normal;font-family:Menlo,'DejaVu Sans Mono',consolas,'Courier New',monospace\"><span style=\"font-weight: bold\"> Total params: </span><span style=\"color: #00af00; text-decoration-color: #00af00\">27,810,314</span> (106.09 MB)\n",
       "</pre>\n"
      ],
      "text/plain": [
       "\u001b[1m Total params: \u001b[0m\u001b[38;5;34m27,810,314\u001b[0m (106.09 MB)\n"
      ]
     },
     "metadata": {},
     "output_type": "display_data"
    },
    {
     "data": {
      "text/html": [
       "<pre style=\"white-space:pre;overflow-x:auto;line-height:normal;font-family:Menlo,'DejaVu Sans Mono',consolas,'Courier New',monospace\"><span style=\"font-weight: bold\"> Trainable params: </span><span style=\"color: #00af00; text-decoration-color: #00af00\">27,803,146</span> (106.06 MB)\n",
       "</pre>\n"
      ],
      "text/plain": [
       "\u001b[1m Trainable params: \u001b[0m\u001b[38;5;34m27,803,146\u001b[0m (106.06 MB)\n"
      ]
     },
     "metadata": {},
     "output_type": "display_data"
    },
    {
     "data": {
      "text/html": [
       "<pre style=\"white-space:pre;overflow-x:auto;line-height:normal;font-family:Menlo,'DejaVu Sans Mono',consolas,'Courier New',monospace\"><span style=\"font-weight: bold\"> Non-trainable params: </span><span style=\"color: #00af00; text-decoration-color: #00af00\">7,168</span> (28.00 KB)\n",
       "</pre>\n"
      ],
      "text/plain": [
       "\u001b[1m Non-trainable params: \u001b[0m\u001b[38;5;34m7,168\u001b[0m (28.00 KB)\n"
      ]
     },
     "metadata": {},
     "output_type": "display_data"
    }
   ],
   "source": [
    "l2 = tf.keras.regularizers.l2(1e-4)\n",
    "\n",
    "model = tf.keras.Sequential([\n",
    "    tf.keras.layers.Input(shape=IMG_SIZE + (3,)),\n",
    "    tf.keras.layers.Rescaling(1./255),\n",
    "\n",
    "    tf.keras.layers.Flatten(),\n",
    "\n",
    "    tf.keras.layers.Dense(2048, activation=\"relu\", kernel_regularizer=l2),\n",
    "    tf.keras.layers.BatchNormalization(),\n",
    "    tf.keras.layers.Dropout(0.40),\n",
    "\n",
    "    tf.keras.layers.Dense(1024, activation=\"relu\", kernel_regularizer=l2),\n",
    "    tf.keras.layers.BatchNormalization(),\n",
    "    tf.keras.layers.Dropout(0.40),\n",
    "\n",
    "    tf.keras.layers.Dense(512, activation=\"relu\", kernel_regularizer=l2),\n",
    "    tf.keras.layers.BatchNormalization(),\n",
    "    tf.keras.layers.Dropout(0.50),\n",
    "\n",
    "    tf.keras.layers.Dense(num_classes, activation=\"softmax\"),\n",
    "])\n",
    "\n",
    "model.compile(\n",
    "    loss=\"sparse_categorical_crossentropy\",\n",
    "    optimizer=tf.keras.optimizers.Adam(learning_rate=1e-4),\n",
    "    metrics=[\"accuracy\"],\n",
    ")\n",
    "\n",
    "model.summary()"
   ]
  },
  {
   "cell_type": "code",
   "execution_count": 7,
   "id": "a6a8bdd6",
   "metadata": {
    "execution": {
     "iopub.execute_input": "2025-10-21T22:05:34.989960Z",
     "iopub.status.busy": "2025-10-21T22:05:34.989838Z",
     "iopub.status.idle": "2025-10-21T22:09:22.660996Z",
     "shell.execute_reply": "2025-10-21T22:09:22.660000Z"
    }
   },
   "outputs": [
    {
     "name": "stderr",
     "output_type": "stream",
     "text": [
      "WARNING: All log messages before absl::InitializeLog() is called are written to STDERR\n",
      "I0000 00:00:1761084338.296759  610069 service.cc:152] XLA service 0x776e0c00f810 initialized for platform CUDA (this does not guarantee that XLA will be used). Devices:\n",
      "I0000 00:00:1761084338.296808  610069 service.cc:160]   StreamExecutor device (0): NVIDIA L40S, Compute Capability 8.9\n"
     ]
    },
    {
     "name": "stderr",
     "output_type": "stream",
     "text": [
      "I0000 00:00:1761084338.574848  610069 cuda_dnn.cc:529] Loaded cuDNN version 91400\n"
     ]
    },
    {
     "name": "stderr",
     "output_type": "stream",
     "text": [
      "I0000 00:00:1761084340.375486  610069 device_compiler.h:188] Compiled cluster using XLA!  This line is logged at most once for the lifetime of the process.\n"
     ]
    }
   ],
   "source": [
    "early_cb = tf.keras.callbacks.EarlyStopping(\n",
    "    monitor=\"val_loss\",\n",
    "    patience=12,\n",
    "    restore_best_weights=True\n",
    ")\n",
    "\n",
    "rlr_cb = tf.keras.callbacks.ReduceLROnPlateau(\n",
    "    monitor=\"val_loss\",\n",
    "    factor=0.5,\n",
    "    patience=3,\n",
    "    min_lr=1e-5,\n",
    "    verbose=0\n",
    ")\n",
    "\n",
    "EPOCHS = 200\n",
    "H = model.fit(\n",
    "    train_ds,\n",
    "    validation_data=val_ds,\n",
    "    epochs=EPOCHS,\n",
    "    callbacks=[early_cb, rlr_cb],\n",
    "    verbose=0,\n",
    ")"
   ]
  },
  {
   "cell_type": "code",
   "execution_count": 8,
   "id": "11077050",
   "metadata": {
    "execution": {
     "iopub.execute_input": "2025-10-21T22:09:22.664797Z",
     "iopub.status.busy": "2025-10-21T22:09:22.664639Z",
     "iopub.status.idle": "2025-10-21T22:09:23.038963Z",
     "shell.execute_reply": "2025-10-21T22:09:23.038131Z"
    }
   },
   "outputs": [
    {
     "name": "stdout",
     "output_type": "stream",
     "text": [
      "Accuracy: 30.54%\n"
     ]
    }
   ],
   "source": [
    "test_loss, test_acc = model.evaluate(test_ds, verbose=0)\n",
    "print(f\"Accuracy: {test_acc:.2%}\")"
   ]
  },
  {
   "cell_type": "code",
   "execution_count": 9,
   "id": "6f8c7ac8",
   "metadata": {
    "execution": {
     "iopub.execute_input": "2025-10-21T22:09:23.042717Z",
     "iopub.status.busy": "2025-10-21T22:09:23.042521Z",
     "iopub.status.idle": "2025-10-21T22:09:23.176778Z",
     "shell.execute_reply": "2025-10-21T22:09:23.176196Z"
    }
   },
   "outputs": [
    {
     "data": {
      "image/png": "[encoded data removed]",
      "text/plain": [
       "<Figure size 1000x225 with 2 Axes>"
      ]
     },
     "metadata": {},
     "output_type": "display_data"
    }
   ],
   "source": [
    "import numpy as np\n",
    "import matplotlib.pyplot as plt\n",
    "\n",
    "fig, axs = plt.subplots(1, 2, figsize=(10, 2.25))\n",
    "fig.tight_layout()\n",
    "plt.subplots_adjust(wspace=0.3)\n",
    "\n",
    "xx = np.arange(1, len(H.history[\"loss\"]) + 1)\n",
    "\n",
    "# Loss\n",
    "ax = axs[0]; ax.grid(True); ax.set_ylabel(\"loss\")\n",
    "ax.plot(xx, H.history[\"loss\"],     \"b-\",  label=\"loss\")\n",
    "ax.plot(xx, H.history[\"val_loss\"], \"r-\",  label=\"val_loss\")\n",
    "\n",
    "# Accuracy\n",
    "ax = axs[1]; ax.grid(True); ax.set_ylabel(\"accuracy\")\n",
    "ax.plot(xx, H.history[\"accuracy\"],     \"b-\", label=\"accuracy\")\n",
    "ax.plot(xx, H.history[\"val_accuracy\"], \"r-\", label=\"val_accuracy\")\n",
    "\n",
    "for ax in axs: ax.set_xlabel(\"epoch\")\n",
    "plt.show()\n"
   ]
  },
  {
   "cell_type": "markdown",
   "id": "e7800323",
   "metadata": {},
   "source": [
    "The training curves show a clear separation between training and validation performance.\n",
    "The loss decreases steadily while the validation loss stabilizes early, indicating that the model learns meaningful patterns but begins to overfit after a few epochs.\n",
    "Validation accuracy plateaus around 60%, whereas the final test accuracy reaches only 30.5%, suggesting that the network captures style-related cues but struggles to generalize effectively from pixel-level data alone."
   ]
  },
  {
   "cell_type": "markdown",
   "id": "f1d7f04b",
   "metadata": {},
   "source": [
    "We define a custom HyperModel class for Keras Tuner that specifies the architecture and training behavior of the MLP during hyperparameter search.\n",
    "The build method defines the search space, including the number of hidden layers, layer widths, dropout rates, L2 regularization strength, and learning rate.\n",
    "Each configuration is compiled with the Adam optimizer and trained using sparse categorical cross-entropy loss."
   ]
  },
  {
   "cell_type": "code",
   "execution_count": 10,
   "id": "14b1a788",
   "metadata": {
    "execution": {
     "iopub.execute_input": "2025-10-21T22:09:23.179946Z",
     "iopub.status.busy": "2025-10-21T22:09:23.179824Z",
     "iopub.status.idle": "2025-10-21T22:09:23.263687Z",
     "shell.execute_reply": "2025-10-21T22:09:23.263064Z"
    }
   },
   "outputs": [],
   "source": [
    "import keras_tuner as kt\n",
    "\n",
    "class MLPHyperModel(kt.HyperModel):\n",
    "    def build(self, hp: kt.HyperParameters):\n",
    "        l2_reg = tf.keras.regularizers.l2(\n",
    "            hp.Float(\"l2\", min_value=1e-5, max_value=5e-4, sampling=\"log\")\n",
    "        )\n",
    "\n",
    "        n_hidden = hp.Choice(\"n_hidden\", values=[2, 3], default=3)\n",
    "\n",
    "        # Architecture search space\n",
    "        widths = []\n",
    "        widths.append(hp.Choice(\"h1\", values=[1536, 2048, 3072], default=2048))\n",
    "        widths.append(hp.Choice(\"h2\", values=[768, 1024, 1536],  default=1024))\n",
    "        if n_hidden == 3:\n",
    "            widths.append(hp.Choice(\"h3\", values=[384, 512, 768], default=512))\n",
    "\n",
    "        # Dropouts\n",
    "        d1 = hp.Float(\"drop1\", 0.30, 0.55, step=0.05, default=0.40)\n",
    "        d2 = hp.Float(\"drop2\", 0.30, 0.55, step=0.05, default=0.40)\n",
    "        d3 = hp.Float(\"drop3\", 0.40, 0.60, step=0.05, default=0.50)\n",
    "\n",
    "        inputs = tf.keras.Input(shape=IMG_SIZE + (3,))\n",
    "        x = tf.keras.layers.Rescaling(1./255)(inputs)\n",
    "        x = tf.keras.layers.Flatten()(x)\n",
    "\n",
    "        # Dense layers + BN + Dropout\n",
    "        x = tf.keras.layers.Dense(widths[0], activation=\"relu\", kernel_regularizer=l2_reg)(x)\n",
    "        x = tf.keras.layers.BatchNormalization()(x)\n",
    "        x = tf.keras.layers.Dropout(d1)(x)\n",
    "\n",
    "        x = tf.keras.layers.Dense(widths[1], activation=\"relu\", kernel_regularizer=l2_reg)(x)\n",
    "        x = tf.keras.layers.BatchNormalization()(x)\n",
    "        x = tf.keras.layers.Dropout(d2)(x)\n",
    "\n",
    "        if n_hidden == 3:\n",
    "            x = tf.keras.layers.Dense(widths[2], activation=\"relu\", kernel_regularizer=l2_reg)(x)\n",
    "            x = tf.keras.layers.BatchNormalization()(x)\n",
    "            x = tf.keras.layers.Dropout(d3)(x)\n",
    "\n",
    "        outputs = tf.keras.layers.Dense(num_classes, activation=\"softmax\")(x)\n",
    "        model = tf.keras.Model(inputs, outputs)\n",
    "\n",
    "        lr = hp.Float(\"lr\", min_value=5e-5, max_value=5e-4, sampling=\"log\", default=1e-4)\n",
    "        opt = tf.keras.optimizers.Adam(learning_rate=lr)\n",
    "\n",
    "        model.compile(\n",
    "            optimizer=opt,\n",
    "            loss=\"sparse_categorical_crossentropy\",\n",
    "            metrics=[\"accuracy\"]\n",
    "        )\n",
    "        return model\n",
    "\n",
    "    def fit(self, hp, model, *args, **kwargs):\n",
    "        # ReduceLROnPlateau\n",
    "        factor   = hp.Float(\"rlr_factor\", min_value=0.1, max_value=0.6, step=0.1, default=0.5)\n",
    "        patience = hp.Choice(\"rlr_patience\", values=[2, 3, 4, 5], default=3)\n",
    "\n",
    "        reduce_cb = tf.keras.callbacks.ReduceLROnPlateau(\n",
    "            monitor=\"val_loss\", factor=factor, patience=patience, min_lr=1e-5, verbose=0\n",
    "        )\n",
    "\n",
    "        # EarlyStopping\n",
    "        es_pat = hp.Choice(\"es_patience\", values=[8, 10, 12, 14], default=12)\n",
    "        early_cb = tf.keras.callbacks.EarlyStopping(\n",
    "            monitor=\"val_loss\", patience=es_pat, restore_best_weights=True\n",
    "        )\n",
    "\n",
    "        callbacks = kwargs.pop(\"callbacks\", [])\n",
    "        callbacks = callbacks + [reduce_cb, early_cb]\n",
    "\n",
    "        return model.fit(\n",
    "            *args,\n",
    "            epochs=80,\n",
    "            callbacks=callbacks,\n",
    "            **kwargs\n",
    "        )\n"
   ]
  },
  {
   "cell_type": "markdown",
   "id": "aff0a91d",
   "metadata": {},
   "source": [
    "We initialize a random search tuner from Keras Tuner to explore the hyperparameter space defined in the MLPHyperModel class.  \n",
    "The tuner evaluates model configurations based on validation accuracy, performing up to six trials with one execution per trial."
   ]
  },
  {
   "cell_type": "code",
   "execution_count": 11,
   "id": "9d4fcb54",
   "metadata": {
    "execution": {
     "iopub.execute_input": "2025-10-21T22:09:23.267041Z",
     "iopub.status.busy": "2025-10-21T22:09:23.266921Z",
     "iopub.status.idle": "2025-10-21T22:26:12.947745Z",
     "shell.execute_reply": "2025-10-21T22:26:12.946572Z"
    }
   },
   "outputs": [
    {
     "name": "stdout",
     "output_type": "stream",
     "text": [
      "Search space summary\n",
      "Default search space size: 9\n",
      "l2 (Float)\n",
      "{'default': 1e-05, 'conditions': [], 'min_value': 1e-05, 'max_value': 0.0005, 'step': None, 'sampling': 'log'}\n",
      "n_hidden (Choice)\n",
      "{'default': 3, 'conditions': [], 'values': [2, 3], 'ordered': True}\n",
      "h1 (Choice)\n",
      "{'default': 2048, 'conditions': [], 'values': [1536, 2048, 3072], 'ordered': True}\n",
      "h2 (Choice)\n",
      "{'default': 1024, 'conditions': [], 'values': [768, 1024, 1536], 'ordered': True}\n",
      "h3 (Choice)\n",
      "{'default': 512, 'conditions': [], 'values': [384, 512, 768], 'ordered': True}\n",
      "drop1 (Float)\n",
      "{'default': 0.4, 'conditions': [], 'min_value': 0.3, 'max_value': 0.55, 'step': 0.05, 'sampling': 'linear'}\n",
      "drop2 (Float)\n",
      "{'default': 0.4, 'conditions': [], 'min_value': 0.3, 'max_value': 0.55, 'step': 0.05, 'sampling': 'linear'}\n",
      "drop3 (Float)\n",
      "{'default': 0.5, 'conditions': [], 'min_value': 0.4, 'max_value': 0.6, 'step': 0.05, 'sampling': 'linear'}\n",
      "lr (Float)\n",
      "{'default': 0.0001, 'conditions': [], 'min_value': 5e-05, 'max_value': 0.0005, 'step': None, 'sampling': 'log'}\n"
     ]
    }
   ],
   "source": [
    "tuner = kt.RandomSearch(\n",
    "    hypermodel=MLPHyperModel(),\n",
    "    objective=\"val_accuracy\",\n",
    "    max_trials=6,\n",
    "    executions_per_trial=1,\n",
    "    directory=\"results/kt-mlp\",\n",
    "    project_name=\"ArtBench10-MLP\",\n",
    "    overwrite=True,\n",
    "    seed=SEED,\n",
    ")\n",
    "\n",
    "tuner.search_space_summary()\n",
    "\n",
    "search_hist = tuner.search(\n",
    "    train_ds,\n",
    "    validation_data=val_ds,\n",
    "    verbose=0,\n",
    ")\n"
   ]
  },
  {
   "cell_type": "code",
   "execution_count": 12,
   "id": "4ef885b1",
   "metadata": {
    "execution": {
     "iopub.execute_input": "2025-10-21T22:26:12.954426Z",
     "iopub.status.busy": "2025-10-21T22:26:12.954232Z",
     "iopub.status.idle": "2025-10-21T22:26:12.961033Z",
     "shell.execute_reply": "2025-10-21T22:26:12.960400Z"
    }
   },
   "outputs": [
    {
     "name": "stdout",
     "output_type": "stream",
     "text": [
      "Results summary\n",
      "Results in results/kt-mlp/ArtBench10-MLP\n",
      "Showing 5 best trials\n",
      "Objective(name=\"val_accuracy\", direction=\"max\")\n",
      "\n",
      "Trial 3 summary\n",
      "Hyperparameters:\n",
      "l2: 5.8340797234095194e-05\n",
      "n_hidden: 2\n",
      "h1: 3072\n",
      "h2: 1536\n",
      "h3: 384\n",
      "drop1: 0.35\n",
      "drop2: 0.45\n",
      "drop3: 0.4\n",
      "lr: 0.00015672063192316227\n",
      "rlr_factor: 0.4\n",
      "rlr_patience: 2\n",
      "es_patience: 14\n",
      "Score: 0.7904000282287598\n",
      "\n",
      "Trial 0 summary\n",
      "Hyperparameters:\n",
      "l2: 0.00012200200009846112\n",
      "n_hidden: 2\n",
      "h1: 2048\n",
      "h2: 768\n",
      "h3: 768\n",
      "drop1: 0.4\n",
      "drop2: 0.45\n",
      "drop3: 0.4\n",
      "lr: 0.00015721955876355395\n",
      "rlr_factor: 0.5\n",
      "rlr_patience: 3\n",
      "es_patience: 12\n",
      "Score: 0.7409999966621399\n",
      "\n",
      "Trial 2 summary\n",
      "Hyperparameters:\n",
      "l2: 5.7052961320881516e-05\n",
      "n_hidden: 2\n",
      "h1: 2048\n",
      "h2: 768\n",
      "h3: 384\n",
      "drop1: 0.5\n",
      "drop2: 0.5\n",
      "drop3: 0.55\n",
      "lr: 0.00010537154554799555\n",
      "rlr_factor: 0.1\n",
      "rlr_patience: 3\n",
      "es_patience: 14\n",
      "Score: 0.7293000221252441\n",
      "\n",
      "Trial 5 summary\n",
      "Hyperparameters:\n",
      "l2: 4.856759873449834e-05\n",
      "n_hidden: 2\n",
      "h1: 2048\n",
      "h2: 768\n",
      "h3: 768\n",
      "drop1: 0.55\n",
      "drop2: 0.55\n",
      "drop3: 0.5\n",
      "lr: 8.819662451317951e-05\n",
      "rlr_factor: 0.1\n",
      "rlr_patience: 3\n",
      "es_patience: 14\n",
      "Score: 0.6912000179290771\n",
      "\n",
      "Trial 4 summary\n",
      "Hyperparameters:\n",
      "l2: 1.7699982148244258e-05\n",
      "n_hidden: 2\n",
      "h1: 1536\n",
      "h2: 768\n",
      "h3: 384\n",
      "drop1: 0.4\n",
      "drop2: 0.55\n",
      "drop3: 0.5\n",
      "lr: 0.0002878269678929686\n",
      "rlr_factor: 0.2\n",
      "rlr_patience: 2\n",
      "es_patience: 10\n",
      "Score: 0.652400016784668\n",
      "\n",
      "Best hyperparameters:\n",
      "l2: 5.8340797234095194e-05\n",
      "n_hidden: 2\n",
      "h1: 3072\n",
      "h2: 1536\n",
      "h3: 384\n",
      "drop1: 0.35\n",
      "drop2: 0.45\n",
      "drop3: 0.4\n",
      "lr: 0.00015672063192316227\n",
      "rlr_factor: 0.4\n",
      "rlr_patience: 2\n",
      "es_patience: 14\n"
     ]
    }
   ],
   "source": [
    "tuner.results_summary(num_trials=5)\n",
    "\n",
    "best_hp = tuner.get_best_hyperparameters(num_trials=1)[0]\n",
    "print(\"\\nBest hyperparameters:\")\n",
    "for k, v in best_hp.values.items():\n",
    "    print(f\"{k}: {v}\")"
   ]
  },
  {
   "cell_type": "code",
   "execution_count": 13,
   "id": "946a9268",
   "metadata": {
    "execution": {
     "iopub.execute_input": "2025-10-21T22:26:12.963815Z",
     "iopub.status.busy": "2025-10-21T22:26:12.963692Z",
     "iopub.status.idle": "2025-10-21T22:29:58.489858Z",
     "shell.execute_reply": "2025-10-21T22:29:58.488536Z"
    }
   },
   "outputs": [
    {
     "data": {
      "text/html": [
       "<pre style=\"white-space:pre;overflow-x:auto;line-height:normal;font-family:Menlo,'DejaVu Sans Mono',consolas,'Courier New',monospace\"><span style=\"font-weight: bold\">Model: \"functional_1\"</span>\n",
       "</pre>\n"
      ],
      "text/plain": [
       "\u001b[1mModel: \"functional_1\"\u001b[0m\n"
      ]
     },
     "metadata": {},
     "output_type": "display_data"
    },
    {
     "data": {
      "text/html": [
       "<pre style=\"white-space:pre;overflow-x:auto;line-height:normal;font-family:Menlo,'DejaVu Sans Mono',consolas,'Courier New',monospace\">┏━━━━━━━━━━━━━━━━━━━━━━━━━━━━━━━━━┳━━━━━━━━━━━━━━━━━━━━━━━━┳━━━━━━━━━━━━━━━┓\n",
       "┃<span style=\"font-weight: bold\"> Layer (type)                    </span>┃<span style=\"font-weight: bold\"> Output Shape           </span>┃<span style=\"font-weight: bold\">       Param # </span>┃\n",
       "┡━━━━━━━━━━━━━━━━━━━━━━━━━━━━━━━━━╇━━━━━━━━━━━━━━━━━━━━━━━━╇━━━━━━━━━━━━━━━┩\n",
       "│ input_layer_1 (<span style=\"color: #0087ff; text-decoration-color: #0087ff\">InputLayer</span>)      │ (<span style=\"color: #00d7ff; text-decoration-color: #00d7ff\">None</span>, <span style=\"color: #00af00; text-decoration-color: #00af00\">64</span>, <span style=\"color: #00af00; text-decoration-color: #00af00\">64</span>, <span style=\"color: #00af00; text-decoration-color: #00af00\">3</span>)      │             <span style=\"color: #00af00; text-decoration-color: #00af00\">0</span> │\n",
       "├─────────────────────────────────┼────────────────────────┼───────────────┤\n",
       "│ rescaling_1 (<span style=\"color: #0087ff; text-decoration-color: #0087ff\">Rescaling</span>)         │ (<span style=\"color: #00d7ff; text-decoration-color: #00d7ff\">None</span>, <span style=\"color: #00af00; text-decoration-color: #00af00\">64</span>, <span style=\"color: #00af00; text-decoration-color: #00af00\">64</span>, <span style=\"color: #00af00; text-decoration-color: #00af00\">3</span>)      │             <span style=\"color: #00af00; text-decoration-color: #00af00\">0</span> │\n",
       "├─────────────────────────────────┼────────────────────────┼───────────────┤\n",
       "│ flatten_1 (<span style=\"color: #0087ff; text-decoration-color: #0087ff\">Flatten</span>)             │ (<span style=\"color: #00d7ff; text-decoration-color: #00d7ff\">None</span>, <span style=\"color: #00af00; text-decoration-color: #00af00\">12288</span>)          │             <span style=\"color: #00af00; text-decoration-color: #00af00\">0</span> │\n",
       "├─────────────────────────────────┼────────────────────────┼───────────────┤\n",
       "│ dense_3 (<span style=\"color: #0087ff; text-decoration-color: #0087ff\">Dense</span>)                 │ (<span style=\"color: #00d7ff; text-decoration-color: #00d7ff\">None</span>, <span style=\"color: #00af00; text-decoration-color: #00af00\">3072</span>)           │    <span style=\"color: #00af00; text-decoration-color: #00af00\">37,751,808</span> │\n",
       "├─────────────────────────────────┼────────────────────────┼───────────────┤\n",
       "│ batch_normalization_2           │ (<span style=\"color: #00d7ff; text-decoration-color: #00d7ff\">None</span>, <span style=\"color: #00af00; text-decoration-color: #00af00\">3072</span>)           │        <span style=\"color: #00af00; text-decoration-color: #00af00\">12,288</span> │\n",
       "│ (<span style=\"color: #0087ff; text-decoration-color: #0087ff\">BatchNormalization</span>)            │                        │               │\n",
       "├─────────────────────────────────┼────────────────────────┼───────────────┤\n",
       "│ dropout_2 (<span style=\"color: #0087ff; text-decoration-color: #0087ff\">Dropout</span>)             │ (<span style=\"color: #00d7ff; text-decoration-color: #00d7ff\">None</span>, <span style=\"color: #00af00; text-decoration-color: #00af00\">3072</span>)           │             <span style=\"color: #00af00; text-decoration-color: #00af00\">0</span> │\n",
       "├─────────────────────────────────┼────────────────────────┼───────────────┤\n",
       "│ dense_4 (<span style=\"color: #0087ff; text-decoration-color: #0087ff\">Dense</span>)                 │ (<span style=\"color: #00d7ff; text-decoration-color: #00d7ff\">None</span>, <span style=\"color: #00af00; text-decoration-color: #00af00\">1536</span>)           │     <span style=\"color: #00af00; text-decoration-color: #00af00\">4,720,128</span> │\n",
       "├─────────────────────────────────┼────────────────────────┼───────────────┤\n",
       "│ batch_normalization_3           │ (<span style=\"color: #00d7ff; text-decoration-color: #00d7ff\">None</span>, <span style=\"color: #00af00; text-decoration-color: #00af00\">1536</span>)           │         <span style=\"color: #00af00; text-decoration-color: #00af00\">6,144</span> │\n",
       "│ (<span style=\"color: #0087ff; text-decoration-color: #0087ff\">BatchNormalization</span>)            │                        │               │\n",
       "├─────────────────────────────────┼────────────────────────┼───────────────┤\n",
       "│ dropout_3 (<span style=\"color: #0087ff; text-decoration-color: #0087ff\">Dropout</span>)             │ (<span style=\"color: #00d7ff; text-decoration-color: #00d7ff\">None</span>, <span style=\"color: #00af00; text-decoration-color: #00af00\">1536</span>)           │             <span style=\"color: #00af00; text-decoration-color: #00af00\">0</span> │\n",
       "├─────────────────────────────────┼────────────────────────┼───────────────┤\n",
       "│ dense_5 (<span style=\"color: #0087ff; text-decoration-color: #0087ff\">Dense</span>)                 │ (<span style=\"color: #00d7ff; text-decoration-color: #00d7ff\">None</span>, <span style=\"color: #00af00; text-decoration-color: #00af00\">10</span>)             │        <span style=\"color: #00af00; text-decoration-color: #00af00\">15,370</span> │\n",
       "└─────────────────────────────────┴────────────────────────┴───────────────┘\n",
       "</pre>\n"
      ],
      "text/plain": [
       "┏━━━━━━━━━━━━━━━━━━━━━━━━━━━━━━━━━┳━━━━━━━━━━━━━━━━━━━━━━━━┳━━━━━━━━━━━━━━━┓\n",
       "┃\u001b[1m \u001b[0m\u001b[1mLayer (type)                   \u001b[0m\u001b[1m \u001b[0m┃\u001b[1m \u001b[0m\u001b[1mOutput Shape          \u001b[0m\u001b[1m \u001b[0m┃\u001b[1m \u001b[0m\u001b[1m      Param #\u001b[0m\u001b[1m \u001b[0m┃\n",
       "┡━━━━━━━━━━━━━━━━━━━━━━━━━━━━━━━━━╇━━━━━━━━━━━━━━━━━━━━━━━━╇━━━━━━━━━━━━━━━┩\n",
       "│ input_layer_1 (\u001b[38;5;33mInputLayer\u001b[0m)      │ (\u001b[38;5;45mNone\u001b[0m, \u001b[38;5;34m64\u001b[0m, \u001b[38;5;34m64\u001b[0m, \u001b[38;5;34m3\u001b[0m)      │             \u001b[38;5;34m0\u001b[0m │\n",
       "├─────────────────────────────────┼────────────────────────┼───────────────┤\n",
       "│ rescaling_1 (\u001b[38;5;33mRescaling\u001b[0m)         │ (\u001b[38;5;45mNone\u001b[0m, \u001b[38;5;34m64\u001b[0m, \u001b[38;5;34m64\u001b[0m, \u001b[38;5;34m3\u001b[0m)      │             \u001b[38;5;34m0\u001b[0m │\n",
       "├─────────────────────────────────┼────────────────────────┼───────────────┤\n",
       "│ flatten_1 (\u001b[38;5;33mFlatten\u001b[0m)             │ (\u001b[38;5;45mNone\u001b[0m, \u001b[38;5;34m12288\u001b[0m)          │             \u001b[38;5;34m0\u001b[0m │\n",
       "├─────────────────────────────────┼────────────────────────┼───────────────┤\n",
       "│ dense_3 (\u001b[38;5;33mDense\u001b[0m)                 │ (\u001b[38;5;45mNone\u001b[0m, \u001b[38;5;34m3072\u001b[0m)           │    \u001b[38;5;34m37,751,808\u001b[0m │\n",
       "├─────────────────────────────────┼────────────────────────┼───────────────┤\n",
       "│ batch_normalization_2           │ (\u001b[38;5;45mNone\u001b[0m, \u001b[38;5;34m3072\u001b[0m)           │        \u001b[38;5;34m12,288\u001b[0m │\n",
       "│ (\u001b[38;5;33mBatchNormalization\u001b[0m)            │                        │               │\n",
       "├─────────────────────────────────┼────────────────────────┼───────────────┤\n",
       "│ dropout_2 (\u001b[38;5;33mDropout\u001b[0m)             │ (\u001b[38;5;45mNone\u001b[0m, \u001b[38;5;34m3072\u001b[0m)           │             \u001b[38;5;34m0\u001b[0m │\n",
       "├─────────────────────────────────┼────────────────────────┼───────────────┤\n",
       "│ dense_4 (\u001b[38;5;33mDense\u001b[0m)                 │ (\u001b[38;5;45mNone\u001b[0m, \u001b[38;5;34m1536\u001b[0m)           │     \u001b[38;5;34m4,720,128\u001b[0m │\n",
       "├─────────────────────────────────┼────────────────────────┼───────────────┤\n",
       "│ batch_normalization_3           │ (\u001b[38;5;45mNone\u001b[0m, \u001b[38;5;34m1536\u001b[0m)           │         \u001b[38;5;34m6,144\u001b[0m │\n",
       "│ (\u001b[38;5;33mBatchNormalization\u001b[0m)            │                        │               │\n",
       "├─────────────────────────────────┼────────────────────────┼───────────────┤\n",
       "│ dropout_3 (\u001b[38;5;33mDropout\u001b[0m)             │ (\u001b[38;5;45mNone\u001b[0m, \u001b[38;5;34m1536\u001b[0m)           │             \u001b[38;5;34m0\u001b[0m │\n",
       "├─────────────────────────────────┼────────────────────────┼───────────────┤\n",
       "│ dense_5 (\u001b[38;5;33mDense\u001b[0m)                 │ (\u001b[38;5;45mNone\u001b[0m, \u001b[38;5;34m10\u001b[0m)             │        \u001b[38;5;34m15,370\u001b[0m │\n",
       "└─────────────────────────────────┴────────────────────────┴───────────────┘\n"
      ]
     },
     "metadata": {},
     "output_type": "display_data"
    },
    {
     "data": {
      "text/html": [
       "<pre style=\"white-space:pre;overflow-x:auto;line-height:normal;font-family:Menlo,'DejaVu Sans Mono',consolas,'Courier New',monospace\"><span style=\"font-weight: bold\"> Total params: </span><span style=\"color: #00af00; text-decoration-color: #00af00\">42,505,738</span> (162.15 MB)\n",
       "</pre>\n"
      ],
      "text/plain": [
       "\u001b[1m Total params: \u001b[0m\u001b[38;5;34m42,505,738\u001b[0m (162.15 MB)\n"
      ]
     },
     "metadata": {},
     "output_type": "display_data"
    },
    {
     "data": {
      "text/html": [
       "<pre style=\"white-space:pre;overflow-x:auto;line-height:normal;font-family:Menlo,'DejaVu Sans Mono',consolas,'Courier New',monospace\"><span style=\"font-weight: bold\"> Trainable params: </span><span style=\"color: #00af00; text-decoration-color: #00af00\">42,496,522</span> (162.11 MB)\n",
       "</pre>\n"
      ],
      "text/plain": [
       "\u001b[1m Trainable params: \u001b[0m\u001b[38;5;34m42,496,522\u001b[0m (162.11 MB)\n"
      ]
     },
     "metadata": {},
     "output_type": "display_data"
    },
    {
     "data": {
      "text/html": [
       "<pre style=\"white-space:pre;overflow-x:auto;line-height:normal;font-family:Menlo,'DejaVu Sans Mono',consolas,'Courier New',monospace\"><span style=\"font-weight: bold\"> Non-trainable params: </span><span style=\"color: #00af00; text-decoration-color: #00af00\">9,216</span> (36.00 KB)\n",
       "</pre>\n"
      ],
      "text/plain": [
       "\u001b[1m Non-trainable params: \u001b[0m\u001b[38;5;34m9,216\u001b[0m (36.00 KB)\n"
      ]
     },
     "metadata": {},
     "output_type": "display_data"
    },
    {
     "name": "stdout",
     "output_type": "stream",
     "text": [
      "Accuracy: 28.79%\n"
     ]
    }
   ],
   "source": [
    "# Reconstruct the best model\n",
    "best_model = tuner.hypermodel.build(best_hp)\n",
    "best_model.summary()\n",
    "\n",
    "# Callbacks for final training\n",
    "rlr_cb_best = tf.keras.callbacks.ReduceLROnPlateau(\n",
    "    monitor=\"val_loss\",\n",
    "    factor=best_hp.get(\"rlr_factor\"),\n",
    "    patience=best_hp.get(\"rlr_patience\"),\n",
    "    min_lr=1e-5,\n",
    "    verbose=0\n",
    ")\n",
    "early_cb_best = tf.keras.callbacks.EarlyStopping(\n",
    "    monitor=\"val_loss\",\n",
    "    patience=best_hp.get(\"es_patience\"),\n",
    "    restore_best_weights=True\n",
    ")\n",
    "\n",
    "EPOCHS_FINAL = 200\n",
    "H_best = best_model.fit(\n",
    "    train_ds,\n",
    "    validation_data=val_ds,\n",
    "    epochs=EPOCHS_FINAL,\n",
    "    callbacks=[rlr_cb_best, early_cb_best],\n",
    "    verbose=0,\n",
    ")\n",
    "\n",
    "test_loss_best, test_acc_best = best_model.evaluate(test_ds, verbose=0)\n",
    "print(f\"Accuracy: {test_acc_best:.2%}\")\n"
   ]
  },
  {
   "cell_type": "code",
   "execution_count": 14,
   "id": "a4a00c96",
   "metadata": {
    "execution": {
     "iopub.execute_input": "2025-10-21T22:29:58.493728Z",
     "iopub.status.busy": "2025-10-21T22:29:58.493489Z",
     "iopub.status.idle": "2025-10-21T22:29:58.617179Z",
     "shell.execute_reply": "2025-10-21T22:29:58.616565Z"
    }
   },
   "outputs": [
    {
     "data": {
      "image/png": "[encoded data removed]",
      "text/plain": [
       "<Figure size 1000x225 with 2 Axes>"
      ]
     },
     "metadata": {},
     "output_type": "display_data"
    }
   ],
   "source": [
    "import numpy as np\n",
    "import matplotlib.pyplot as plt\n",
    "\n",
    "fig, axs = plt.subplots(1, 2, figsize=(10, 2.25))\n",
    "fig.tight_layout()\n",
    "plt.subplots_adjust(wspace=0.3)\n",
    "\n",
    "xx = np.arange(1, len(H_best.history[\"loss\"]) + 1)\n",
    "\n",
    "# Loss\n",
    "ax = axs[0]; ax.grid(True); ax.set_ylabel(\"loss\")\n",
    "ax.plot(xx, H_best.history[\"loss\"],     \"b-\",  label=\"loss\")\n",
    "ax.plot(xx, H_best.history[\"val_loss\"], \"r-\",  label=\"val_loss\")\n",
    "\n",
    "# Accuracy\n",
    "ax = axs[1]; ax.grid(True); ax.set_ylabel(\"accuracy\")\n",
    "ax.plot(xx, H_best.history[\"accuracy\"],     \"b-\", label=\"accuracy\")\n",
    "ax.plot(xx, H_best.history[\"val_accuracy\"], \"r-\", label=\"val_accuracy\")\n",
    "\n",
    "for ax in axs: ax.set_xlabel(\"epoch\")\n",
    "plt.show()"
   ]
  },
  {
   "cell_type": "code",
   "execution_count": 15,
   "id": "d344051a",
   "metadata": {
    "execution": {
     "iopub.execute_input": "2025-10-21T22:29:58.620335Z",
     "iopub.status.busy": "2025-10-21T22:29:58.620190Z",
     "iopub.status.idle": "2025-10-21T22:29:59.670574Z",
     "shell.execute_reply": "2025-10-21T22:29:59.669597Z"
    }
   },
   "outputs": [
    {
     "name": "stdout",
     "output_type": "stream",
     "text": [
      "                    precision    recall  f1-score   support\n",
      "\n",
      "       art_nouveau      0.276     0.320     0.296      1000\n",
      "           baroque      0.329     0.402     0.362      1000\n",
      "     expressionism      0.151     0.085     0.109      1000\n",
      "     impressionism      0.234     0.160     0.190      1000\n",
      "post_impressionism      0.230     0.183     0.204      1000\n",
      "           realism      0.210     0.167     0.186      1000\n",
      "       renaissance      0.321     0.221     0.262      1000\n",
      "       romanticism      0.250     0.210     0.228      1000\n",
      "        surrealism      0.242     0.342     0.283      1000\n",
      "           ukiyo_e      0.430     0.789     0.556      1000\n",
      "\n",
      "          accuracy                          0.288     10000\n",
      "         macro avg      0.267     0.288     0.268     10000\n",
      "      weighted avg      0.267     0.288     0.268     10000\n",
      "\n"
     ]
    }
   ],
   "source": [
    "from sklearn.metrics import classification_report\n",
    "\n",
    "y_true = np.concatenate([y.numpy() for x, y in test_ds], axis=0)\n",
    "y_pred = np.argmax(best_model.predict(test_ds, verbose=0), axis=1)\n",
    "print(classification_report(y_true, y_pred, target_names=class_names, digits=3))"
   ]
  },
  {
   "cell_type": "markdown",
   "id": "70a01967",
   "metadata": {},
   "source": [
    "The model performs worse because the small hyperparameter search likely overfitted to the validation set.\n",
    "During tuning, the algorithm selected parameters that happened to work best on that specific validation split, rather than ones that generalize well.\n",
    "As a result, while validation accuracy looked good during the search, the chosen configuration did not transfer effectively to unseen test data."
   ]
  }
 ],
 "metadata": {
  "kernelspec": {
   "display_name": "wikiart-tf",
   "language": "python",
   "name": "python3"
  },
  "language_info": {
   "codemirror_mode": {
    "name": "ipython",
    "version": 3
   },
   "file_extension": ".py",
   "mimetype": "text/x-python",
   "name": "python",
   "nbconvert_exporter": "python",
   "pygments_lexer": "ipython3",
   "version": "3.10.18"
  }
 },
 "nbformat": 4,
 "nbformat_minor": 5
}
