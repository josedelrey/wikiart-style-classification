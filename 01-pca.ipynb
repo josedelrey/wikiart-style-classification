{
 "cells": [
  {
   "cell_type": "markdown",
   "id": "c93a55e1",
   "metadata": {},
   "source": [
    "needed imports, parameters and reproducibility"
   ]
  },
  {
   "cell_type": "code",
   "execution_count": null,
   "id": "22517541",
   "metadata": {},
   "outputs": [],
   "source": [
    "import torch\n",
    "from torch.utils.data import DataLoader\n",
    "from torchvision import datasets, transforms\n",
    "import matplotlib.pyplot as plt\n",
    "import numpy as np\n",
    "import random\n",
    "\n",
    "DATA_DIR = \"data/artbench-10\"\n",
    "IMAGE_SIZE = 64\n",
    "BATCH_SIZE = 512\n",
    "SEED = 42\n",
    "\n",
    "random.seed(SEED)\n",
    "np.random.seed(SEED)\n",
    "torch.manual_seed(SEED)\n",
    "torch.cuda.manual_seed(SEED)\n",
    "torch.cuda.manual_seed_all(SEED)\n",
    "g = torch.Generator()\n",
    "g.manual_seed(SEED)"
   ]
  },
  {
   "cell_type": "markdown",
   "id": "b4bc33ba",
   "metadata": {},
   "source": [
    "pytorch transforms"
   ]
  },
  {
   "cell_type": "code",
   "execution_count": null,
   "id": "a7117f45",
   "metadata": {},
   "outputs": [],
   "source": [
    "resize_tf = transforms.Compose([\n",
    "    transforms.Resize((IMAGE_SIZE, IMAGE_SIZE)),\n",
    "    transforms.ToTensor(),\n",
    "])"
   ]
  },
  {
   "cell_type": "markdown",
   "id": "01e7a884",
   "metadata": {},
   "source": [
    "dataloader returns a imgs, labs tuple.\n",
    "\n",
    "imgs.shape = [B, C, H, W]\n",
    "\n",
    "labs.shape = [B]"
   ]
  },
  {
   "cell_type": "code",
   "execution_count": null,
   "id": "853f32a3",
   "metadata": {},
   "outputs": [],
   "source": [
    "train_ds = datasets.ImageFolder(root=f\"{DATA_DIR}/train\", transform=resize_tf)\n",
    "test_ds  = datasets.ImageFolder(root=f\"{DATA_DIR}/test\",  transform=resize_tf)\n",
    "\n",
    "train_loader = DataLoader(\n",
    "    train_ds,\n",
    "    batch_size=BATCH_SIZE,\n",
    "    shuffle=True,\n",
    "    num_workers=8,\n",
    "    pin_memory=False,\n",
    "    persistent_workers=True,\n",
    "    prefetch_factor=4,\n",
    "    generator=g,\n",
    ")\n",
    "\n",
    "\n",
    "test_loader = DataLoader(\n",
    "    test_ds,\n",
    "    batch_size=BATCH_SIZE,\n",
    "    shuffle=False,\n",
    "    num_workers=8,\n",
    "    pin_memory=False,\n",
    "    persistent_workers=True,\n",
    "    prefetch_factor=4,\n",
    ")\n",
    "\n",
    "class_names = train_ds.classes\n",
    "print(f\"Classes: {class_names}\")\n",
    "print(f\"Number of classes: {len(class_names)}\")\n",
    "print(f\"Train images: {len(train_ds)}\")\n",
    "print(f\"Test images:  {len(test_ds)}\")\n",
    "print(f\"Image shape: {train_ds[0][0].shape}\")"
   ]
  },
  {
   "cell_type": "markdown",
   "id": "21bf6cba",
   "metadata": {},
   "source": [
    "see a subset of resized images"
   ]
  },
  {
   "cell_type": "code",
   "execution_count": null,
   "id": "a1d89e9a",
   "metadata": {},
   "outputs": [],
   "source": [
    "def show_batch(imgs, labels, class_names, n=6):\n",
    "    imgs = imgs[:n]\n",
    "    labels = labels[:n]\n",
    "    plt.figure(figsize=(12, 6))\n",
    "    for i, (img, lab) in enumerate(zip(imgs, labels)):\n",
    "        npimg = img.numpy().transpose(1, 2, 0)  # CHW → HWC\n",
    "        plt.subplot(2, 3, i + 1)\n",
    "        plt.imshow(np.clip(npimg, 0, 1))\n",
    "        plt.title(class_names[lab])\n",
    "        plt.axis(\"off\")\n",
    "    plt.tight_layout()\n",
    "    plt.show()\n",
    "\n",
    "imgs, labs = next(iter(train_loader))\n",
    "show_batch(imgs, labs, class_names, n=6)"
   ]
  },
  {
   "cell_type": "markdown",
   "id": "c2536859",
   "metadata": {},
   "source": [
    "la K optima seria min(N, D) pero eso es demasiado asi que se pone manual\n",
    "aqui calculamos PCA incremental sobre el train set"
   ]
  },
  {
   "cell_type": "code",
   "execution_count": null,
   "id": "5979fa1b",
   "metadata": {},
   "outputs": [],
   "source": [
    "from sklearn.decomposition import IncrementalPCA\n",
    "from tqdm.auto import tqdm\n",
    "import joblib\n",
    "import os\n",
    "\n",
    "KMAX = 512\n",
    "RESULTS_DIR = \"results\"\n",
    "os.makedirs(\"results\", exist_ok=True)\n",
    "MODEL_PATH = os.path.join(RESULTS_DIR, f\"ipca_artbench.pkl\")\n",
    "\n",
    "if os.path.exists(MODEL_PATH):\n",
    "    print(f\"Loading existing IncrementalPCA from {MODEL_PATH}\")\n",
    "    ipca = joblib.load(MODEL_PATH)\n",
    "\n",
    "else:\n",
    "    print(\"Fitting IncrementalPCA from scratch...\")\n",
    "    ipca = IncrementalPCA(n_components=KMAX)\n",
    "\n",
    "    pbar = tqdm(total=len(train_loader), desc=\"Fitting IncrementalPCA\")\n",
    "    for xb, _ in train_loader:  # xb: [B,C,H,W]\n",
    "        Xb = xb.flatten(1).cpu().numpy().astype(np.float32)  # -> [B,D]\n",
    "        ipca.partial_fit(Xb)\n",
    "        pbar.update(1)\n",
    "        pbar.set_postfix(seen=getattr(ipca, \"n_samples_seen_\", \"?\"))\n",
    "    pbar.close()\n",
    "\n",
    "    joblib.dump(ipca, MODEL_PATH)\n",
    "    print(f\"Saved IncrementalPCA to {MODEL_PATH}\")"
   ]
  },
  {
   "cell_type": "markdown",
   "id": "0e9a8679",
   "metadata": {},
   "source": [
    "divide the full dataset into train and test splits"
   ]
  },
  {
   "cell_type": "code",
   "execution_count": null,
   "id": "ce8dcb36",
   "metadata": {},
   "outputs": [],
   "source": [
    "ipca = joblib.load(MODEL_PATH)\n",
    "\n",
    "print(type(ipca))\n",
    "print(ipca.n_components_)\n",
    "print(ipca.components_.shape)"
   ]
  },
  {
   "cell_type": "code",
   "execution_count": null,
   "id": "e9e677d6",
   "metadata": {},
   "outputs": [],
   "source": [
    "import os\n",
    "import numpy as np\n",
    "from tqdm.auto import tqdm\n",
    "import matplotlib.pyplot as plt\n",
    "\n",
    "def mse_curve(loader, ipca, Ks):\n",
    "    n_samples = 0\n",
    "    total_sse = {K: 0.0 for K in Ks}\n",
    "\n",
    "    pbar = tqdm(total=len(loader), leave=True)\n",
    "\n",
    "    for xb, _ in loader:\n",
    "        Xb = xb.flatten(1).cpu().numpy().astype(np.float32)  # [B, D]\n",
    "        Z = ipca.transform(Xb)                               # [B, n_components]\n",
    "\n",
    "        for K in Ks:\n",
    "            Zt = Z.copy()\n",
    "            Zt[:, K:] = 0.0\n",
    "            Xh = ipca.inverse_transform(Zt)\n",
    "            diff = Xb - Xh\n",
    "            sse = (diff**2).sum(axis=1)\n",
    "            total_sse[K] += sse.sum()\n",
    "\n",
    "        n_samples += Xb.shape[0]\n",
    "        pbar.update(1)\n",
    "\n",
    "    pbar.close()\n",
    "    return {K: total_sse[K] / n_samples for K in Ks}"
   ]
  },
  {
   "cell_type": "code",
   "execution_count": null,
   "id": "9a01c330",
   "metadata": {},
   "outputs": [],
   "source": [
    "Ks = sorted(set([10, 20, 50, 100, 150, 200, 250] + list(range(500, KMAX+1, 500)) + [KMAX]))\n",
    "\n",
    "train_path = \"results/pca_curve_train.npy\"\n",
    "test_path  = \"results/pca_curve_test.npy\"\n",
    "\n",
    "if os.path.exists(train_path) and os.path.exists(test_path):\n",
    "    print(\"Loading curves from disk...\")\n",
    "    L_train = np.load(train_path, allow_pickle=True).item()\n",
    "    L_test  = np.load(test_path, allow_pickle=True).item()\n",
    "else:\n",
    "    print(\"Computing curves from scratch...\")\n",
    "    L_train = mse_curve(train_loader, ipca, Ks)\n",
    "    L_test  = mse_curve(test_loader,  ipca, Ks)\n",
    "    np.save(train_path, L_train)\n",
    "    np.save(test_path,  L_test)\n",
    "    print(f\"Saved curves to {train_path} and {test_path}\")"
   ]
  },
  {
   "cell_type": "code",
   "execution_count": null,
   "id": "a6ff1055",
   "metadata": {},
   "outputs": [],
   "source": [
    "plt.figure(figsize=(6.5, 3.2))\n",
    "plt.grid(True)\n",
    "plt.plot(list(L_train.keys()), list(L_train.values()), '-x', label='Train')\n",
    "plt.plot(list(L_test.keys()), list(L_test.values()),  '-o', label='Test')\n",
    "plt.xlabel('K (principal components)')\n",
    "plt.ylabel('Reconstruction error (SSE per image)')\n",
    "plt.legend(); plt.tight_layout(); plt.show()"
   ]
  }
 ],
 "metadata": {
  "kernelspec": {
   "display_name": "wikiart",
   "language": "python",
   "name": "python3"
  },
  "language_info": {
   "codemirror_mode": {
    "name": "ipython",
    "version": 3
   },
   "file_extension": ".py",
   "mimetype": "text/x-python",
   "name": "python",
   "nbconvert_exporter": "python",
   "pygments_lexer": "ipython3",
   "version": "3.10.18"
  }
 },
 "nbformat": 4,
 "nbformat_minor": 5
}
