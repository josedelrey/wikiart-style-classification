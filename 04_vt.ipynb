{
 "cells": [
  {
   "cell_type": "code",
   "execution_count": null,
   "id": "ae4d734d",
   "metadata": {
    "execution": {
     "iopub.execute_input": "2025-10-21T09:51:49.514372Z",
     "iopub.status.busy": "2025-10-21T09:51:49.513795Z",
     "iopub.status.idle": "2025-10-21T09:51:53.025959Z",
     "shell.execute_reply": "2025-10-21T09:51:53.025372Z"
    }
   },
   "outputs": [
    {
     "name": "stderr",
     "output_type": "stream",
     "text": [
      "2025-10-21 11:51:50.219895: I tensorflow/core/util/port.cc:153] oneDNN custom operations are on. You may see slightly different numerical results due to floating-point round-off errors from different computation orders. To turn them off, set the environment variable `TF_ENABLE_ONEDNN_OPTS=0`.\n",
      "2025-10-21 11:51:50.415210: E external/local_xla/xla/stream_executor/cuda/cuda_fft.cc:467] Unable to register cuFFT factory: Attempting to register factory for plugin cuFFT when one has already been registered\n",
      "WARNING: All log messages before absl::InitializeLog() is called are written to STDERR\n",
      "E0000 00:00:1761040310.534035  428598 cuda_dnn.cc:8579] Unable to register cuDNN factory: Attempting to register factory for plugin cuDNN when one has already been registered\n",
      "E0000 00:00:1761040310.567636  428598 cuda_blas.cc:1407] Unable to register cuBLAS factory: Attempting to register factory for plugin cuBLAS when one has already been registered\n",
      "W0000 00:00:1761040310.772287  428598 computation_placer.cc:177] computation placer already registered. Please check linkage and avoid linking the same target more than once.\n",
      "W0000 00:00:1761040310.772355  428598 computation_placer.cc:177] computation placer already registered. Please check linkage and avoid linking the same target more than once.\n",
      "W0000 00:00:1761040310.772359  428598 computation_placer.cc:177] computation placer already registered. Please check linkage and avoid linking the same target more than once.\n",
      "W0000 00:00:1761040310.772363  428598 computation_placer.cc:177] computation placer already registered. Please check linkage and avoid linking the same target more than once.\n",
      "2025-10-21 11:51:50.792304: I tensorflow/core/platform/cpu_feature_guard.cc:210] This TensorFlow binary is optimized to use available CPU instructions in performance-critical operations.\n",
      "To enable the following instructions: AVX2 AVX512F AVX512_VNNI AVX512_BF16 FMA, in other operations, rebuild TensorFlow with the appropriate compiler flags.\n"
     ]
    }
   ],
   "source": [
    "import os, random\n",
    "import numpy as np\n",
    "import matplotlib.pyplot as plt\n",
    "from sklearn.metrics import classification_report, confusion_matrix\n",
    "from types import SimpleNamespace\n",
    "\n",
    "# Silence TensorFlow, Abseil, cuDNN, and XLA compiler spam\n",
    "os.environ[\"TF_CPP_MIN_LOG_LEVEL\"] = \"3\"\n",
    "os.environ[\"ABSL_LOGGING_LEVEL\"] = \"fatal\"\n",
    "os.environ[\"TF_ENABLE_ONEDNN_OPTS\"] = \"0\"\n",
    "os.environ[\"CUDA_DEVICE_ORDER\"] = \"PCI_BUS_ID\"\n",
    "os.environ[\"TF_XLA_FLAGS\"] = \"--tf_xla_enable_xla_devices=false\"\n",
    "os.environ[\"XLA_FLAGS\"] = \"--xla_gpu_enable_triton_gemm=false\"\n",
    "\n",
    "import silence_tensorflow.auto\n",
    "\n",
    "import tensorflow as tf\n",
    "import absl.logging\n",
    "absl.logging.set_verbosity(absl.logging.ERROR)\n",
    "tf.get_logger().setLevel(\"ERROR\")\n",
    "tf.config.optimizer.set_jit(False)\n",
    "\n",
    "import keras_hub\n"
   ]
  },
  {
   "cell_type": "code",
   "execution_count": 2,
   "id": "bebeeb17",
   "metadata": {
    "execution": {
     "iopub.execute_input": "2025-10-21T09:51:53.029982Z",
     "iopub.status.busy": "2025-10-21T09:51:53.029728Z",
     "iopub.status.idle": "2025-10-21T09:51:53.032903Z",
     "shell.execute_reply": "2025-10-21T09:51:53.032464Z"
    }
   },
   "outputs": [],
   "source": [
    "args = SimpleNamespace(\n",
    "    data_dir=\"data/artbench-10\",\n",
    "    img_size=(224, 224),\n",
    "    batch_size=64,\n",
    "    val_split=0.2,\n",
    "    seed=42,\n",
    "    epochs=200,\n",
    "    lr_warmup=5e-4,\n",
    "    lr_finetune=3e-5,\n",
    "    preset=\"vit_large_patch16_224_imagenet21k\",\n",
    "    results_dir=\"results\",\n",
    "    warmup_epochs=5,\n",
    ")"
   ]
  },
  {
   "cell_type": "code",
   "execution_count": 3,
   "id": "7058ebef",
   "metadata": {
    "execution": {
     "iopub.execute_input": "2025-10-21T09:51:53.035501Z",
     "iopub.status.busy": "2025-10-21T09:51:53.035390Z",
     "iopub.status.idle": "2025-10-21T09:51:53.038457Z",
     "shell.execute_reply": "2025-10-21T09:51:53.038018Z"
    }
   },
   "outputs": [],
   "source": [
    "slurm_id = os.environ.get(\"SLURM_JOB_ID\", \"\")\n",
    "tag = f\"_{slurm_id}\" if slurm_id else \"\"\n",
    "os.makedirs(args.results_dir, exist_ok=True)\n",
    "\n",
    "# Seeds\n",
    "tf.keras.utils.set_random_seed(args.seed)\n",
    "random.seed(args.seed)\n",
    "np.random.seed(args.seed)"
   ]
  },
  {
   "cell_type": "code",
   "execution_count": 4,
   "id": "009f78a4",
   "metadata": {
    "execution": {
     "iopub.execute_input": "2025-10-21T09:51:53.040888Z",
     "iopub.status.busy": "2025-10-21T09:51:53.040776Z",
     "iopub.status.idle": "2025-10-21T09:51:53.616232Z",
     "shell.execute_reply": "2025-10-21T09:51:53.615658Z"
    }
   },
   "outputs": [
    {
     "name": "stderr",
     "output_type": "stream",
     "text": [
      "2025-10-21 11:51:53.583004: W tensorflow/core/common_runtime/gpu/gpu_bfc_allocator.cc:47] Overriding orig_value setting because the TF_FORCE_GPU_ALLOW_GROWTH environment variable is set. Original config value was 0.\n",
      "I0000 00:00:1761040313.583998  428598 gpu_device.cc:2019] Created device /job:localhost/replica:0/task:0/device:GPU:0 with 43500 MB memory:  -> device: 0, name: NVIDIA L40S, pci bus id: 0000:21:00.0, compute capability: 8.9\n"
     ]
    }
   ],
   "source": [
    "augment = tf.keras.Sequential(\n",
    "    [\n",
    "        tf.keras.layers.RandomFlip(\"horizontal\"),\n",
    "        tf.keras.layers.RandomTranslation(height_factor=0.05, width_factor=0.05, fill_mode=\"reflect\"),\n",
    "        tf.keras.layers.RandomRotation(factor=0.05, fill_mode=\"reflect\"),\n",
    "        tf.keras.layers.RandomZoom(height_factor=(-0.1, 0.1), width_factor=(-0.1, 0.1), fill_mode=\"reflect\"),\n",
    "        tf.keras.layers.RandomContrast(factor=0.1),\n",
    "    ],\n",
    "    name=\"augment\",\n",
    ")"
   ]
  },
  {
   "cell_type": "code",
   "execution_count": 5,
   "id": "ceac2245",
   "metadata": {
    "execution": {
     "iopub.execute_input": "2025-10-21T09:51:53.619651Z",
     "iopub.status.busy": "2025-10-21T09:51:53.619530Z",
     "iopub.status.idle": "2025-10-21T09:51:53.625863Z",
     "shell.execute_reply": "2025-10-21T09:51:53.625415Z"
    }
   },
   "outputs": [],
   "source": [
    "def plot_history(history):\n",
    "    hist = history.history\n",
    "    xx = np.arange(1, len(hist[\"loss\"]) + 1)\n",
    "\n",
    "    fig, axs = plt.subplots(1, 2, figsize=(10, 3))\n",
    "    plt.subplots_adjust(wspace=0.3)\n",
    "\n",
    "    ax = axs[0]; ax.grid(True); ax.set_ylabel(\"loss\")\n",
    "    ax.plot(xx, hist[\"loss\"], \"b-\", label=\"loss\")\n",
    "    ax.plot(xx, hist[\"val_loss\"], \"r-\", label=\"val_loss\")\n",
    "    ax.legend(loc=\"best\")\n",
    "\n",
    "    ax = axs[1]; ax.grid(True); ax.set_ylabel(\"accuracy\")\n",
    "    ax.plot(xx, hist[\"accuracy\"], \"b-\", label=\"accuracy\")\n",
    "    ax.plot(xx, hist[\"val_accuracy\"], \"r-\", label=\"val_accuracy\")\n",
    "    ax.legend(loc=\"best\")\n",
    "\n",
    "    for ax in axs:\n",
    "        ax.set_xlabel(\"epoch\")\n",
    "    plt.show()\n",
    "\n",
    "def plot_confusion_matrix(cm, classes, normalize=True):\n",
    "    if normalize:\n",
    "        cm = cm.astype(\"float\") / (cm.sum(axis=1, keepdims=True) + 1e-12)\n",
    "\n",
    "    plt.figure(figsize=(5.5, 4.5))\n",
    "    plt.imshow(cm, interpolation=\"nearest\", cmap=\"viridis\")\n",
    "    plt.title(\"Confusion matrix\" + (\" (normalized)\" if normalize else \"\"))\n",
    "    plt.colorbar()\n",
    "    tick_marks = np.arange(len(classes))\n",
    "    plt.xticks(tick_marks, classes, rotation=90)\n",
    "    plt.yticks(tick_marks, classes)\n",
    "\n",
    "    fmt = \".2f\" if normalize else \"d\"\n",
    "    thresh = cm.max() / 2.0\n",
    "    for i in range(cm.shape[0]):\n",
    "        for j in range(cm.shape[1]):\n",
    "            val = format(cm[i, j], fmt)\n",
    "            plt.text(j, i, val,\n",
    "                     ha=\"center\",\n",
    "                     color=\"white\" if cm[i, j] > thresh else \"black\",\n",
    "                     fontsize=7)\n",
    "    plt.ylabel(\"True label\")\n",
    "    plt.xlabel(\"Predicted label\")\n",
    "    plt.tight_layout()\n",
    "    plt.show()\n",
    "\n",
    "def merge_histories(H_list):\n",
    "    merged = {}\n",
    "    for H in H_list:\n",
    "        for k, v in H.history.items():\n",
    "            merged.setdefault(k, [])\n",
    "            merged[k].extend(v)\n",
    "    class _Hist:\n",
    "        def __init__(self, hist):\n",
    "            self.history = hist\n",
    "    return _Hist(merged)"
   ]
  },
  {
   "cell_type": "code",
   "execution_count": 6,
   "id": "572caca8",
   "metadata": {
    "execution": {
     "iopub.execute_input": "2025-10-21T09:51:53.628534Z",
     "iopub.status.busy": "2025-10-21T09:51:53.628422Z",
     "iopub.status.idle": "2025-10-21T09:52:02.063142Z",
     "shell.execute_reply": "2025-10-21T09:52:02.062266Z"
    }
   },
   "outputs": [
    {
     "name": "stdout",
     "output_type": "stream",
     "text": [
      "Found 50000 files belonging to 10 classes.\n"
     ]
    },
    {
     "name": "stdout",
     "output_type": "stream",
     "text": [
      "Using 40000 files for training.\n"
     ]
    },
    {
     "name": "stdout",
     "output_type": "stream",
     "text": [
      "Found 50000 files belonging to 10 classes.\n"
     ]
    },
    {
     "name": "stdout",
     "output_type": "stream",
     "text": [
      "Using 10000 files for validation.\n"
     ]
    },
    {
     "name": "stdout",
     "output_type": "stream",
     "text": [
      "Found 10000 files belonging to 10 classes.\n"
     ]
    },
    {
     "name": "stdout",
     "output_type": "stream",
     "text": [
      "Classes (10): ['art_nouveau', 'baroque', 'expressionism', 'impressionism', 'post_impressionism', 'realism', 'renaissance', 'romanticism', 'surrealism', 'ukiyo_e']\n"
     ]
    }
   ],
   "source": [
    "def build_datasets(data_dir, img_size, batch_size, val_split, seed):\n",
    "    train_ds = tf.keras.preprocessing.image_dataset_from_directory(\n",
    "        os.path.join(data_dir, \"train\"),\n",
    "        validation_split=val_split,\n",
    "        subset=\"training\",\n",
    "        seed=seed,\n",
    "        image_size=tuple(img_size),\n",
    "        batch_size=batch_size,\n",
    "        label_mode=\"int\",\n",
    "        shuffle=True,\n",
    "    )\n",
    "    val_ds = tf.keras.preprocessing.image_dataset_from_directory(\n",
    "        os.path.join(data_dir, \"train\"),\n",
    "        validation_split=val_split,\n",
    "        subset=\"validation\",\n",
    "        seed=seed,\n",
    "        image_size=tuple(img_size),\n",
    "        batch_size=batch_size,\n",
    "        label_mode=\"int\",\n",
    "        shuffle=False,\n",
    "    )\n",
    "    test_ds = tf.keras.preprocessing.image_dataset_from_directory(\n",
    "        os.path.join(data_dir, \"test\"),\n",
    "        image_size=tuple(img_size),\n",
    "        batch_size=batch_size,\n",
    "        label_mode=\"int\",\n",
    "        shuffle=False,\n",
    "    )\n",
    "    class_names = train_ds.class_names\n",
    "    num_classes = len(class_names)\n",
    "    return train_ds, val_ds, test_ds, class_names, num_classes\n",
    "\n",
    "# Build datasets\n",
    "train_raw, val_raw, test_raw, class_names, num_classes = build_datasets(\n",
    "    args.data_dir, args.img_size, args.batch_size, args.val_split, args.seed\n",
    ")\n",
    "print(f\"Classes ({num_classes}):\", class_names)"
   ]
  },
  {
   "cell_type": "code",
   "execution_count": 7,
   "id": "07c403bd",
   "metadata": {
    "execution": {
     "iopub.execute_input": "2025-10-21T09:52:02.066318Z",
     "iopub.status.busy": "2025-10-21T09:52:02.066126Z",
     "iopub.status.idle": "2025-10-21T09:52:05.384605Z",
     "shell.execute_reply": "2025-10-21T09:52:05.383918Z"
    }
   },
   "outputs": [],
   "source": [
    "preproc = keras_hub.models.ViTImageClassifierPreprocessor.from_preset(args.preset)\n",
    "clf = keras_hub.models.Backbone.from_preset(args.preset)\n",
    "M = keras_hub.models.ViTImageClassifier(\n",
    "    backbone=clf,\n",
    "    num_classes=num_classes,\n",
    "    preprocessor=preproc,\n",
    "    activation=\"softmax\",\n",
    "    dropout=0.2,\n",
    ")"
   ]
  },
  {
   "cell_type": "code",
   "execution_count": 8,
   "id": "25b87324",
   "metadata": {
    "execution": {
     "iopub.execute_input": "2025-10-21T09:52:05.388186Z",
     "iopub.status.busy": "2025-10-21T09:52:05.388050Z",
     "iopub.status.idle": "2025-10-21T09:52:05.511503Z",
     "shell.execute_reply": "2025-10-21T09:52:05.510695Z"
    }
   },
   "outputs": [],
   "source": [
    "AUTOTUNE = tf.data.AUTOTUNE\n",
    "train_ds = train_raw.map(lambda x,y: (augment(x, training=True), y), \n",
    "                         num_parallel_calls=AUTOTUNE).prefetch(AUTOTUNE)\n",
    "val_ds   = val_raw.prefetch(AUTOTUNE)\n",
    "test_ds  = test_raw.prefetch(AUTOTUNE)"
   ]
  },
  {
   "cell_type": "code",
   "execution_count": 9,
   "id": "624d2fd4",
   "metadata": {
    "execution": {
     "iopub.execute_input": "2025-10-21T09:52:05.515096Z",
     "iopub.status.busy": "2025-10-21T09:52:05.514976Z",
     "iopub.status.idle": "2025-10-21T09:52:05.521217Z",
     "shell.execute_reply": "2025-10-21T09:52:05.520720Z"
    }
   },
   "outputs": [],
   "source": [
    "acc_metric = tf.keras.metrics.SparseCategoricalAccuracy(name=\"accuracy\")\n",
    "top5_metric = tf.keras.metrics.SparseTopKCategoricalAccuracy(k=5, name=\"top5\")\n",
    "\n",
    "reduce_cb = tf.keras.callbacks.ReduceLROnPlateau(\n",
    "    monitor=\"val_accuracy\", factor=0.4, patience=6, verbose=0\n",
    ")\n",
    "early_cb = tf.keras.callbacks.EarlyStopping(\n",
    "    monitor=\"val_accuracy\", patience=12, restore_best_weights=True, verbose=0\n",
    ")"
   ]
  },
  {
   "cell_type": "code",
   "execution_count": 10,
   "id": "4936f7ea",
   "metadata": {
    "execution": {
     "iopub.execute_input": "2025-10-21T09:52:05.524145Z",
     "iopub.status.busy": "2025-10-21T09:52:05.524031Z",
     "iopub.status.idle": "2025-10-21T10:04:05.516173Z",
     "shell.execute_reply": "2025-10-21T10:04:05.512547Z"
    }
   },
   "outputs": [
    {
     "name": "stdout",
     "output_type": "stream",
     "text": [
      "Warmup epochs (frozen backbone): 5\n"
     ]
    },
    {
     "name": "stderr",
     "output_type": "stream",
     "text": [
      "WARNING: All log messages before absl::InitializeLog() is called are written to STDERR\n",
      "I0000 00:00:1761040333.526750  428670 service.cc:152] XLA service 0x70ab5c002200 initialized for platform CUDA (this does not guarantee that XLA will be used). Devices:\n",
      "I0000 00:00:1761040333.526857  428670 service.cc:160]   StreamExecutor device (0): NVIDIA L40S, Compute Capability 8.9\n"
     ]
    },
    {
     "name": "stderr",
     "output_type": "stream",
     "text": [
      "2025-10-21 11:52:13.968825: I tensorflow/compiler/mlir/tensorflow/utils/dump_mlir_util.cc:269] disabling MLIR crash reproducer, set env var `MLIR_CRASH_REPRODUCER_DIRECTORY` to enable.\n"
     ]
    },
    {
     "name": "stderr",
     "output_type": "stream",
     "text": [
      "I0000 00:00:1761040340.038614  428670 cuda_dnn.cc:529] Loaded cuDNN version 91400\n"
     ]
    },
    {
     "name": "stderr",
     "output_type": "stream",
     "text": [
      "2025-10-21 11:52:24.168136: I external/local_xla/xla/stream_executor/cuda/subprocess_compilation.cc:346] ptxas warning : Registers are spilled to local memory in function 'gemm_fusion_dot', 196 bytes spill stores, 196 bytes spill loads\n",
      "\n",
      "2025-10-21 11:52:24.358751: I external/local_xla/xla/stream_executor/cuda/subprocess_compilation.cc:346] ptxas warning : Registers are spilled to local memory in function 'gemm_fusion_dot_1', 344 bytes spill stores, 344 bytes spill loads\n",
      "\n"
     ]
    },
    {
     "name": "stderr",
     "output_type": "stream",
     "text": [
      "2025-10-21 11:52:24.434118: I external/local_xla/xla/stream_executor/cuda/subprocess_compilation.cc:346] ptxas warning : Registers are spilled to local memory in function 'gemm_fusion_dot', 416 bytes spill stores, 416 bytes spill loads\n",
      "\n",
      "2025-10-21 11:52:24.555511: I external/local_xla/xla/stream_executor/cuda/subprocess_compilation.cc:346] ptxas warning : Registers are spilled to local memory in function 'gemm_fusion_dot_1', 560 bytes spill stores, 500 bytes spill loads\n",
      "\n",
      "2025-10-21 11:52:24.561040: I external/local_xla/xla/stream_executor/cuda/subprocess_compilation.cc:346] ptxas warning : Registers are spilled to local memory in function 'gemm_fusion_dot', 1044 bytes spill stores, 1044 bytes spill loads\n",
      "\n",
      "2025-10-21 11:52:24.578135: I external/local_xla/xla/stream_executor/cuda/subprocess_compilation.cc:346] ptxas warning : Registers are spilled to local memory in function 'gemm_fusion_dot_1', 188 bytes spill stores, 188 bytes spill loads\n",
      "\n",
      "2025-10-21 11:52:24.611468: I external/local_xla/xla/stream_executor/cuda/subprocess_compilation.cc:346] ptxas warning : Registers are spilled to local memory in function 'gemm_fusion_dot_1', 4940 bytes spill stores, 4936 bytes spill loads\n",
      "\n"
     ]
    },
    {
     "name": "stderr",
     "output_type": "stream",
     "text": [
      "2025-10-21 11:52:24.644860: I external/local_xla/xla/stream_executor/cuda/subprocess_compilation.cc:346] ptxas warning : Registers are spilled to local memory in function 'gemm_fusion_dot_6', 560 bytes spill stores, 500 bytes spill loads\n",
      "\n",
      "2025-10-21 11:52:24.664667: I external/local_xla/xla/stream_executor/cuda/subprocess_compilation.cc:346] ptxas warning : Registers are spilled to local memory in function 'gemm_fusion_dot_1', 712 bytes spill stores, 712 bytes spill loads\n",
      "\n",
      "2025-10-21 11:52:24.666326: I external/local_xla/xla/stream_executor/cuda/subprocess_compilation.cc:346] ptxas warning : Registers are spilled to local memory in function 'gemm_fusion_dot_1', 476 bytes spill stores, 448 bytes spill loads\n",
      "\n",
      "2025-10-21 11:52:24.680730: I external/local_xla/xla/stream_executor/cuda/subprocess_compilation.cc:346] ptxas warning : Registers are spilled to local memory in function 'gemm_fusion_dot_6', 184 bytes spill stores, 184 bytes spill loads\n",
      "\n",
      "2025-10-21 11:52:24.788639: I external/local_xla/xla/stream_executor/cuda/subprocess_compilation.cc:346] ptxas warning : Registers are spilled to local memory in function 'gemm_fusion_dot_6', 476 bytes spill stores, 448 bytes spill loads\n",
      "\n"
     ]
    },
    {
     "name": "stderr",
     "output_type": "stream",
     "text": [
      "2025-10-21 11:52:24.895091: I external/local_xla/xla/stream_executor/cuda/subprocess_compilation.cc:346] ptxas warning : Registers are spilled to local memory in function 'gemm_fusion_dot_192', 444 bytes spill stores, 368 bytes spill loads\n",
      "\n",
      "2025-10-21 11:52:24.898899: I external/local_xla/xla/stream_executor/cuda/subprocess_compilation.cc:346] ptxas warning : Registers are spilled to local memory in function 'gemm_fusion_dot_1', 580 bytes spill stores, 440 bytes spill loads\n",
      "\n",
      "2025-10-21 11:52:24.916119: I external/local_xla/xla/stream_executor/cuda/subprocess_compilation.cc:346] ptxas warning : Registers are spilled to local memory in function 'gemm_fusion_dot_6', 628 bytes spill stores, 568 bytes spill loads\n",
      "\n",
      "2025-10-21 11:52:24.920929: I external/local_xla/xla/stream_executor/cuda/subprocess_compilation.cc:346] ptxas warning : Registers are spilled to local memory in function 'gemm_fusion_dot_1', 612 bytes spill stores, 548 bytes spill loads\n",
      "\n",
      "2025-10-21 11:52:25.019443: I external/local_xla/xla/stream_executor/cuda/subprocess_compilation.cc:346] ptxas warning : Registers are spilled to local memory in function 'gemm_fusion_dot', 676 bytes spill stores, 612 bytes spill loads\n",
      "\n",
      "2025-10-21 11:52:25.086659: I external/local_xla/xla/stream_executor/cuda/subprocess_compilation.cc:346] ptxas warning : Registers are spilled to local memory in function 'gemm_fusion_dot_6', 5364 bytes spill stores, 5356 bytes spill loads\n",
      "\n"
     ]
    },
    {
     "name": "stderr",
     "output_type": "stream",
     "text": [
      "2025-10-21 11:52:25.099047: I external/local_xla/xla/stream_executor/cuda/subprocess_compilation.cc:346] ptxas warning : Registers are spilled to local memory in function 'gemm_fusion_dot_192', 356 bytes spill stores, 308 bytes spill loads\n",
      "\n",
      "2025-10-21 11:52:25.109433: I external/local_xla/xla/stream_executor/cuda/subprocess_compilation.cc:346] ptxas warning : Registers are spilled to local memory in function 'gemm_fusion_dot_192', 16 bytes spill stores, 16 bytes spill loads\n",
      "\n",
      "2025-10-21 11:52:25.110818: I external/local_xla/xla/stream_executor/cuda/subprocess_compilation.cc:346] ptxas warning : Registers are spilled to local memory in function 'gemm_fusion_dot_1', 1368 bytes spill stores, 1368 bytes spill loads\n",
      "\n",
      "2025-10-21 11:52:25.126133: I external/local_xla/xla/stream_executor/cuda/subprocess_compilation.cc:346] ptxas warning : Registers are spilled to local memory in function 'gemm_fusion_dot_6', 348 bytes spill stores, 348 bytes spill loads\n",
      "\n",
      "2025-10-21 11:52:25.132124: I external/local_xla/xla/stream_executor/cuda/subprocess_compilation.cc:346] ptxas warning : Registers are spilled to local memory in function 'gemm_fusion_dot_192', 24 bytes spill stores, 24 bytes spill loads\n",
      "\n",
      "2025-10-21 11:52:25.152122: I external/local_xla/xla/stream_executor/cuda/subprocess_compilation.cc:346] ptxas warning : Registers are spilled to local memory in function 'gemm_fusion_dot_1', 4752 bytes spill stores, 4752 bytes spill loads\n",
      "\n",
      "2025-10-21 11:52:25.169361: I external/local_xla/xla/stream_executor/cuda/subprocess_compilation.cc:346] ptxas warning : Registers are spilled to local memory in function 'gemm_fusion_dot', 468 bytes spill stores, 436 bytes spill loads\n",
      "\n",
      "2025-10-21 11:52:25.198863: I external/local_xla/xla/stream_executor/cuda/subprocess_compilation.cc:346] ptxas warning : Registers are spilled to local memory in function 'gemm_fusion_dot_192', 500 bytes spill stores, 420 bytes spill loads\n",
      "\n",
      "2025-10-21 11:52:25.203683: I external/local_xla/xla/stream_executor/cuda/subprocess_compilation.cc:346] ptxas warning : Registers are spilled to local memory in function 'gemm_fusion_dot', 612 bytes spill stores, 544 bytes spill loads\n",
      "\n",
      "2025-10-21 11:52:25.275123: I external/local_xla/xla/stream_executor/cuda/subprocess_compilation.cc:346] ptxas warning : Registers are spilled to local memory in function 'gemm_fusion_dot', 1468 bytes spill stores, 1468 bytes spill loads\n",
      "\n",
      "2025-10-21 11:52:25.293644: I external/local_xla/xla/stream_executor/cuda/subprocess_compilation.cc:346] ptxas warning : Registers are spilled to local memory in function 'gemm_fusion_dot', 4640 bytes spill stores, 4628 bytes spill loads\n",
      "\n"
     ]
    },
    {
     "name": "stderr",
     "output_type": "stream",
     "text": [
      "2025-10-21 11:52:25.323381: I external/local_xla/xla/stream_executor/cuda/subprocess_compilation.cc:346] ptxas warning : Registers are spilled to local memory in function 'gemm_fusion_dot', 660 bytes spill stores, 504 bytes spill loads\n",
      "\n",
      "2025-10-21 11:52:25.324319: I external/local_xla/xla/stream_executor/cuda/subprocess_compilation.cc:346] ptxas warning : Registers are spilled to local memory in function 'gemm_fusion_dot_6', 852 bytes spill stores, 852 bytes spill loads\n",
      "\n",
      "2025-10-21 11:52:25.400491: I external/local_xla/xla/stream_executor/cuda/subprocess_compilation.cc:346] ptxas warning : Registers are spilled to local memory in function 'gemm_fusion_dot_6', 1368 bytes spill stores, 1368 bytes spill loads\n",
      "\n",
      "2025-10-21 11:52:25.421086: I external/local_xla/xla/stream_executor/cuda/subprocess_compilation.cc:346] ptxas warning : Registers are spilled to local memory in function 'gemm_fusion_dot_6', 636 bytes spill stores, 484 bytes spill loads\n",
      "\n",
      "2025-10-21 11:52:25.435442: I external/local_xla/xla/stream_executor/cuda/subprocess_compilation.cc:346] ptxas warning : Registers are spilled to local memory in function 'gemm_fusion_dot_192', 16 bytes spill stores, 16 bytes spill loads\n",
      "\n",
      "2025-10-21 11:52:25.475421: I external/local_xla/xla/stream_executor/cuda/subprocess_compilation.cc:346] ptxas warning : Registers are spilled to local memory in function 'gemm_fusion_dot', 5056 bytes spill stores, 5016 bytes spill loads\n",
      "\n"
     ]
    },
    {
     "name": "stderr",
     "output_type": "stream",
     "text": [
      "2025-10-21 11:52:25.563834: I external/local_xla/xla/stream_executor/cuda/subprocess_compilation.cc:346] ptxas warning : Registers are spilled to local memory in function 'gemm_fusion_dot_6', 4944 bytes spill stores, 4936 bytes spill loads\n",
      "\n",
      "2025-10-21 11:52:25.694788: I external/local_xla/xla/stream_executor/cuda/subprocess_compilation.cc:346] ptxas warning : Registers are spilled to local memory in function 'gemm_fusion_dot_1', 7500 bytes spill stores, 7496 bytes spill loads\n",
      "\n"
     ]
    },
    {
     "name": "stderr",
     "output_type": "stream",
     "text": [
      "2025-10-21 11:52:25.809801: I external/local_xla/xla/stream_executor/cuda/subprocess_compilation.cc:346] ptxas warning : Registers are spilled to local memory in function 'gemm_fusion_dot_6', 8604 bytes spill stores, 8600 bytes spill loads\n",
      "\n",
      "2025-10-21 11:52:25.874866: I external/local_xla/xla/stream_executor/cuda/subprocess_compilation.cc:346] ptxas warning : Registers are spilled to local memory in function 'gemm_fusion_dot', 7128 bytes spill stores, 7096 bytes spill loads\n",
      "\n"
     ]
    },
    {
     "name": "stderr",
     "output_type": "stream",
     "text": [
      "I0000 00:00:1761040349.261165  428670 device_compiler.h:188] Compiled cluster using XLA!  This line is logged at most once for the lifetime of the process.\n"
     ]
    },
    {
     "name": "stderr",
     "output_type": "stream",
     "text": [
      "2025-10-21 11:54:56.924383: I external/local_xla/xla/stream_executor/cuda/subprocess_compilation.cc:346] ptxas warning : Registers are spilled to local memory in function 'gemm_fusion_dot_6', 184 bytes spill stores, 184 bytes spill loads\n",
      "\n",
      "2025-10-21 11:54:57.097602: I external/local_xla/xla/stream_executor/cuda/subprocess_compilation.cc:346] ptxas warning : Registers are spilled to local memory in function 'gemm_fusion_dot_6', 4944 bytes spill stores, 4936 bytes spill loads\n",
      "\n"
     ]
    },
    {
     "name": "stderr",
     "output_type": "stream",
     "text": [
      "2025-10-21 11:54:57.160634: I external/local_xla/xla/stream_executor/cuda/subprocess_compilation.cc:346] ptxas warning : Registers are spilled to local memory in function 'gemm_fusion_dot_193', 608 bytes spill stores, 540 bytes spill loads\n",
      "\n",
      "2025-10-21 11:54:57.208116: I external/local_xla/xla/stream_executor/cuda/subprocess_compilation.cc:346] ptxas warning : Registers are spilled to local memory in function 'gemm_fusion_dot_193', 4932 bytes spill stores, 4924 bytes spill loads\n",
      "\n"
     ]
    },
    {
     "name": "stderr",
     "output_type": "stream",
     "text": [
      "2025-10-21 11:54:57.601436: I external/local_xla/xla/stream_executor/cuda/subprocess_compilation.cc:346] ptxas warning : Registers are spilled to local memory in function 'gemm_fusion_dot_193', 8632 bytes spill stores, 8632 bytes spill loads\n",
      "\n"
     ]
    },
    {
     "name": "stderr",
     "output_type": "stream",
     "text": [
      "2025-10-21 11:54:57.856899: I external/local_xla/xla/stream_executor/cuda/subprocess_compilation.cc:346] ptxas warning : Registers are spilled to local memory in function 'gemm_fusion_dot_193', 184 bytes spill stores, 184 bytes spill loads\n",
      "\n",
      "2025-10-21 11:54:57.871903: I external/local_xla/xla/stream_executor/cuda/subprocess_compilation.cc:346] ptxas warning : Registers are spilled to local memory in function 'gemm_fusion_dot_6', 348 bytes spill stores, 348 bytes spill loads\n",
      "\n",
      "2025-10-21 11:54:57.873515: I external/local_xla/xla/stream_executor/cuda/subprocess_compilation.cc:346] ptxas warning : Registers are spilled to local memory in function 'gemm_fusion_dot_6', 476 bytes spill stores, 448 bytes spill loads\n",
      "\n",
      "2025-10-21 11:54:57.907134: I external/local_xla/xla/stream_executor/cuda/subprocess_compilation.cc:346] ptxas warning : Registers are spilled to local memory in function 'gemm_fusion_dot_240', 16 bytes spill stores, 16 bytes spill loads\n",
      "\n",
      "2025-10-21 11:54:57.936262: I external/local_xla/xla/stream_executor/cuda/subprocess_compilation.cc:346] ptxas warning : Registers are spilled to local memory in function 'gemm_fusion_dot_240', 16 bytes spill stores, 16 bytes spill loads\n",
      "\n",
      "2025-10-21 11:54:57.993949: I external/local_xla/xla/stream_executor/cuda/subprocess_compilation.cc:346] ptxas warning : Registers are spilled to local memory in function 'gemm_fusion_dot_193', 468 bytes spill stores, 436 bytes spill loads\n",
      "\n",
      "2025-10-21 11:54:58.035302: I external/local_xla/xla/stream_executor/cuda/subprocess_compilation.cc:346] ptxas warning : Registers are spilled to local memory in function 'gemm_fusion_dot_193', 624 bytes spill stores, 480 bytes spill loads\n",
      "\n"
     ]
    },
    {
     "name": "stderr",
     "output_type": "stream",
     "text": [
      "2025-10-21 11:54:58.295149: I external/local_xla/xla/stream_executor/cuda/subprocess_compilation.cc:346] ptxas warning : Registers are spilled to local memory in function 'gemm_fusion_dot_193', 356 bytes spill stores, 356 bytes spill loads\n",
      "\n",
      "2025-10-21 11:54:58.437817: I external/local_xla/xla/stream_executor/cuda/subprocess_compilation.cc:346] ptxas warning : Registers are spilled to local memory in function 'gemm_fusion_dot_240', 356 bytes spill stores, 308 bytes spill loads\n",
      "\n",
      "2025-10-21 11:54:58.461319: I external/local_xla/xla/stream_executor/cuda/subprocess_compilation.cc:346] ptxas warning : Registers are spilled to local memory in function 'gemm_fusion_dot_6', 852 bytes spill stores, 852 bytes spill loads\n",
      "\n",
      "2025-10-21 11:54:58.481514: I external/local_xla/xla/stream_executor/cuda/subprocess_compilation.cc:346] ptxas warning : Registers are spilled to local memory in function 'gemm_fusion_dot_6', 636 bytes spill stores, 484 bytes spill loads\n",
      "\n",
      "2025-10-21 11:54:58.487316: I external/local_xla/xla/stream_executor/cuda/subprocess_compilation.cc:346] ptxas warning : Registers are spilled to local memory in function 'gemm_fusion_dot_240', 24 bytes spill stores, 24 bytes spill loads\n",
      "\n"
     ]
    },
    {
     "name": "stderr",
     "output_type": "stream",
     "text": [
      "2025-10-21 11:54:58.521102: I external/local_xla/xla/stream_executor/cuda/subprocess_compilation.cc:346] ptxas warning : Registers are spilled to local memory in function 'gemm_fusion_dot_193', 840 bytes spill stores, 840 bytes spill loads\n",
      "\n",
      "2025-10-21 11:54:58.541634: I external/local_xla/xla/stream_executor/cuda/subprocess_compilation.cc:346] ptxas warning : Registers are spilled to local memory in function 'gemm_fusion_dot_6', 560 bytes spill stores, 500 bytes spill loads\n",
      "\n",
      "2025-10-21 11:54:58.555817: I external/local_xla/xla/stream_executor/cuda/subprocess_compilation.cc:346] ptxas warning : Registers are spilled to local memory in function 'gemm_fusion_dot_240', 500 bytes spill stores, 420 bytes spill loads\n",
      "\n",
      "2025-10-21 11:54:58.563640: I external/local_xla/xla/stream_executor/cuda/subprocess_compilation.cc:346] ptxas warning : Registers are spilled to local memory in function 'gemm_fusion_dot_193', 1360 bytes spill stores, 1360 bytes spill loads\n",
      "\n",
      "2025-10-21 11:54:58.567319: I external/local_xla/xla/stream_executor/cuda/subprocess_compilation.cc:346] ptxas warning : Registers are spilled to local memory in function 'gemm_fusion_dot_193', 552 bytes spill stores, 488 bytes spill loads\n",
      "\n",
      "2025-10-21 11:54:58.571565: I external/local_xla/xla/stream_executor/cuda/subprocess_compilation.cc:346] ptxas warning : Registers are spilled to local memory in function 'gemm_fusion_dot_6', 5364 bytes spill stores, 5356 bytes spill loads\n",
      "\n",
      "2025-10-21 11:54:58.663945: I external/local_xla/xla/stream_executor/cuda/subprocess_compilation.cc:346] ptxas warning : Registers are spilled to local memory in function 'gemm_fusion_dot_6', 1368 bytes spill stores, 1368 bytes spill loads\n",
      "\n",
      "2025-10-21 11:54:58.702836: I external/local_xla/xla/stream_executor/cuda/subprocess_compilation.cc:346] ptxas warning : Registers are spilled to local memory in function 'gemm_fusion_dot_6', 8604 bytes spill stores, 8600 bytes spill loads\n",
      "\n"
     ]
    },
    {
     "name": "stderr",
     "output_type": "stream",
     "text": [
      "2025-10-21 11:54:58.764135: I external/local_xla/xla/stream_executor/cuda/subprocess_compilation.cc:346] ptxas warning : Registers are spilled to local memory in function 'gemm_fusion_dot_240', 444 bytes spill stores, 368 bytes spill loads\n",
      "\n",
      "2025-10-21 11:54:58.765876: I external/local_xla/xla/stream_executor/cuda/subprocess_compilation.cc:346] ptxas warning : Registers are spilled to local memory in function 'gemm_fusion_dot_6', 628 bytes spill stores, 568 bytes spill loads\n",
      "\n"
     ]
    },
    {
     "name": "stderr",
     "output_type": "stream",
     "text": [
      "2025-10-21 11:54:59.044448: I external/local_xla/xla/stream_executor/cuda/subprocess_compilation.cc:346] ptxas warning : Registers are spilled to local memory in function 'gemm_fusion_dot_193', 5248 bytes spill stores, 5244 bytes spill loads\n",
      "\n"
     ]
    }
   ],
   "source": [
    "warmup_epochs = max(1, min(args.warmup_epochs, args.epochs))\n",
    "print(f\"Warmup epochs (frozen backbone): {warmup_epochs}\")\n",
    "\n",
    "# Warmup\n",
    "clf.trainable = False\n",
    "M.compile(optimizer=tf.keras.optimizers.Adam(args.lr_warmup),\n",
    "          loss=\"sparse_categorical_crossentropy\",\n",
    "          metrics=[acc_metric, top5_metric])\n",
    "H1 = M.fit(train_ds, validation_data=val_ds, epochs=warmup_epochs, verbose=0)"
   ]
  },
  {
   "cell_type": "code",
   "execution_count": 11,
   "id": "e8a72d65",
   "metadata": {
    "execution": {
     "iopub.execute_input": "2025-10-21T10:04:05.529353Z",
     "iopub.status.busy": "2025-10-21T10:04:05.528963Z",
     "iopub.status.idle": "2025-10-21T12:31:59.319438Z",
     "shell.execute_reply": "2025-10-21T12:31:59.318219Z"
    }
   },
   "outputs": [
    {
     "name": "stdout",
     "output_type": "stream",
     "text": [
      "Fine-tune epochs (unfrozen backbone): 195\n"
     ]
    },
    {
     "name": "stderr",
     "output_type": "stream",
     "text": [
      "2025-10-21 12:04:39.308561: I external/local_xla/xla/stream_executor/cuda/subprocess_compilation.cc:346] ptxas warning : Registers are spilled to local memory in function 'gemm_fusion_dot_650', 24 bytes spill stores, 24 bytes spill loads\n",
      "\n",
      "2025-10-21 12:04:39.348606: I external/local_xla/xla/stream_executor/cuda/subprocess_compilation.cc:346] ptxas warning : Registers are spilled to local memory in function 'gemm_fusion_dot_651', 36 bytes spill stores, 36 bytes spill loads\n",
      "\n"
     ]
    },
    {
     "name": "stderr",
     "output_type": "stream",
     "text": [
      "2025-10-21 12:04:39.889065: I external/local_xla/xla/stream_executor/cuda/subprocess_compilation.cc:346] ptxas warning : Registers are spilled to local memory in function 'gemm_fusion_dot_650', 20 bytes spill stores, 20 bytes spill loads\n",
      "\n"
     ]
    },
    {
     "name": "stderr",
     "output_type": "stream",
     "text": [
      "2025-10-21 12:04:40.185974: I external/local_xla/xla/stream_executor/cuda/subprocess_compilation.cc:346] ptxas warning : Registers are spilled to local memory in function 'gemm_fusion_dot_201', 312 bytes spill stores, 280 bytes spill loads\n",
      "\n",
      "2025-10-21 12:04:40.335393: I external/local_xla/xla/stream_executor/cuda/subprocess_compilation.cc:346] ptxas warning : Registers are spilled to local memory in function 'gemm_fusion_dot_201', 960 bytes spill stores, 964 bytes spill loads\n",
      "\n",
      "2025-10-21 12:04:40.380552: I external/local_xla/xla/stream_executor/cuda/subprocess_compilation.cc:346] ptxas warning : Registers are spilled to local memory in function 'gemm_fusion_dot_649', 156 bytes spill stores, 132 bytes spill loads\n",
      "\n"
     ]
    },
    {
     "name": "stderr",
     "output_type": "stream",
     "text": [
      "2025-10-21 12:04:40.672103: I external/local_xla/xla/stream_executor/cuda/subprocess_compilation.cc:346] ptxas warning : Registers are spilled to local memory in function 'gemm_fusion_dot_649', 224 bytes spill stores, 224 bytes spill loads\n",
      "\n",
      "2025-10-21 12:04:40.806618: I external/local_xla/xla/stream_executor/cuda/subprocess_compilation.cc:346] ptxas warning : Registers are spilled to local memory in function 'gemm_fusion_dot_651', 612 bytes spill stores, 612 bytes spill loads\n",
      "\n"
     ]
    },
    {
     "name": "stderr",
     "output_type": "stream",
     "text": [
      "2025-10-21 12:04:40.917377: I external/local_xla/xla/stream_executor/cuda/subprocess_compilation.cc:346] ptxas warning : Registers are spilled to local memory in function 'gemm_fusion_dot_649', 72 bytes spill stores, 72 bytes spill loads\n",
      "\n",
      "2025-10-21 12:04:40.956842: I external/local_xla/xla/stream_executor/cuda/subprocess_compilation.cc:346] ptxas warning : Registers are spilled to local memory in function 'gemm_fusion_dot_651', 160 bytes spill stores, 160 bytes spill loads\n",
      "\n",
      "2025-10-21 12:04:40.999810: I external/local_xla/xla/stream_executor/cuda/subprocess_compilation.cc:346] ptxas warning : Registers are spilled to local memory in function 'gemm_fusion_dot_649', 220 bytes spill stores, 184 bytes spill loads\n",
      "\n"
     ]
    },
    {
     "name": "stderr",
     "output_type": "stream",
     "text": [
      "2025-10-21 12:04:41.336376: I external/local_xla/xla/stream_executor/cuda/subprocess_compilation.cc:346] ptxas warning : Registers are spilled to local memory in function 'gemm_fusion_dot_201', 5812 bytes spill stores, 5804 bytes spill loads\n",
      "\n",
      "2025-10-21 12:04:41.414560: I external/local_xla/xla/stream_executor/cuda/subprocess_compilation.cc:346] ptxas warning : Registers are spilled to local memory in function 'gemm_fusion_dot_651', 612 bytes spill stores, 612 bytes spill loads\n",
      "\n"
     ]
    },
    {
     "name": "stderr",
     "output_type": "stream",
     "text": [
      "2025-10-21 12:04:41.623877: I external/local_xla/xla/stream_executor/cuda/subprocess_compilation.cc:346] ptxas warning : Registers are spilled to local memory in function 'gemm_fusion_dot_201', 184 bytes spill stores, 184 bytes spill loads\n",
      "\n",
      "2025-10-21 12:04:41.713472: I external/local_xla/xla/stream_executor/cuda/subprocess_compilation.cc:346] ptxas warning : Registers are spilled to local memory in function 'gemm_fusion_dot_650', 88 bytes spill stores, 88 bytes spill loads\n",
      "\n"
     ]
    },
    {
     "name": "stderr",
     "output_type": "stream",
     "text": [
      "2025-10-21 12:04:41.836378: I external/local_xla/xla/stream_executor/cuda/subprocess_compilation.cc:346] ptxas warning : Registers are spilled to local memory in function 'gemm_fusion_dot_651', 1136 bytes spill stores, 1136 bytes spill loads\n",
      "\n",
      "2025-10-21 12:04:41.922223: I external/local_xla/xla/stream_executor/cuda/subprocess_compilation.cc:346] ptxas warning : Registers are spilled to local memory in function 'gemm_fusion_dot_649', 156 bytes spill stores, 136 bytes spill loads\n",
      "\n",
      "2025-10-21 12:04:42.014033: I external/local_xla/xla/stream_executor/cuda/subprocess_compilation.cc:346] ptxas warning : Registers are spilled to local memory in function 'gemm_fusion_dot_651', 160 bytes spill stores, 160 bytes spill loads\n",
      "\n"
     ]
    },
    {
     "name": "stderr",
     "output_type": "stream",
     "text": [
      "2025-10-21 12:04:42.189287: I external/local_xla/xla/stream_executor/cuda/subprocess_compilation.cc:346] ptxas warning : Registers are spilled to local memory in function 'gemm_fusion_dot_201', 456 bytes spill stores, 388 bytes spill loads\n",
      "\n",
      "2025-10-21 12:04:42.339357: I external/local_xla/xla/stream_executor/cuda/subprocess_compilation.cc:346] ptxas warning : Registers are spilled to local memory in function 'gemm_fusion_dot_651', 140 bytes spill stores, 140 bytes spill loads\n",
      "\n"
     ]
    },
    {
     "name": "stderr",
     "output_type": "stream",
     "text": [
      "2025-10-21 12:04:42.417148: I external/local_xla/xla/stream_executor/cuda/subprocess_compilation.cc:346] ptxas warning : Registers are spilled to local memory in function 'gemm_fusion_dot_650', 204 bytes spill stores, 204 bytes spill loads\n",
      "\n",
      "2025-10-21 12:04:42.453610: I external/local_xla/xla/stream_executor/cuda/subprocess_compilation.cc:346] ptxas warning : Registers are spilled to local memory in function 'gemm_fusion_dot_651', 600 bytes spill stores, 600 bytes spill loads\n",
      "\n",
      "2025-10-21 12:04:42.545239: I external/local_xla/xla/stream_executor/cuda/subprocess_compilation.cc:346] ptxas warning : Registers are spilled to local memory in function 'gemm_fusion_dot_651', 224 bytes spill stores, 224 bytes spill loads\n",
      "\n",
      "2025-10-21 12:04:42.570892: I external/local_xla/xla/stream_executor/cuda/subprocess_compilation.cc:346] ptxas warning : Registers are spilled to local memory in function 'gemm_fusion_dot_649', 224 bytes spill stores, 224 bytes spill loads\n",
      "\n",
      "2025-10-21 12:04:42.600331: I external/local_xla/xla/stream_executor/cuda/subprocess_compilation.cc:346] ptxas warning : Registers are spilled to local memory in function 'gemm_fusion_dot_650', 204 bytes spill stores, 204 bytes spill loads\n",
      "\n",
      "2025-10-21 12:04:42.613054: I external/local_xla/xla/stream_executor/cuda/subprocess_compilation.cc:346] ptxas warning : Registers are spilled to local memory in function 'gemm_fusion_dot_651', 4 bytes spill stores, 4 bytes spill loads\n",
      "\n"
     ]
    },
    {
     "name": "stderr",
     "output_type": "stream",
     "text": [
      "2025-10-21 12:04:42.633103: I external/local_xla/xla/stream_executor/cuda/subprocess_compilation.cc:346] ptxas warning : Registers are spilled to local memory in function 'gemm_fusion_dot_201', 432 bytes spill stores, 368 bytes spill loads\n",
      "\n",
      "2025-10-21 12:04:42.794129: I external/local_xla/xla/stream_executor/cuda/subprocess_compilation.cc:346] ptxas warning : Registers are spilled to local memory in function 'gemm_fusion_dot_201', 348 bytes spill stores, 348 bytes spill loads\n",
      "\n",
      "2025-10-21 12:04:42.811916: I external/local_xla/xla/stream_executor/cuda/subprocess_compilation.cc:346] ptxas warning : Registers are spilled to local memory in function 'gemm_fusion_dot_201', 992 bytes spill stores, 992 bytes spill loads\n",
      "\n",
      "2025-10-21 12:04:42.817250: I external/local_xla/xla/stream_executor/cuda/subprocess_compilation.cc:346] ptxas warning : Registers are spilled to local memory in function 'gemm_fusion_dot_201', 136 bytes spill stores, 132 bytes spill loads\n",
      "\n"
     ]
    },
    {
     "name": "stderr",
     "output_type": "stream",
     "text": [
      "2025-10-21 12:04:42.835579: I external/local_xla/xla/stream_executor/cuda/subprocess_compilation.cc:346] ptxas warning : Registers are spilled to local memory in function 'gemm_fusion_dot_201', 160 bytes spill stores, 160 bytes spill loads\n",
      "\n",
      "2025-10-21 12:04:42.884436: I external/local_xla/xla/stream_executor/cuda/subprocess_compilation.cc:346] ptxas warning : Registers are spilled to local memory in function 'gemm_fusion_dot_650', 8064 bytes spill stores, 8024 bytes spill loads\n",
      "\n",
      "2025-10-21 12:04:42.956457: I external/local_xla/xla/stream_executor/cuda/subprocess_compilation.cc:346] ptxas warning : Registers are spilled to local memory in function 'gemm_fusion_dot_201', 5332 bytes spill stores, 5324 bytes spill loads\n",
      "\n",
      "2025-10-21 12:04:42.956535: I external/local_xla/xla/stream_executor/cuda/subprocess_compilation.cc:346] ptxas warning : Registers are spilled to local memory in function 'gemm_fusion_dot_650', 924 bytes spill stores, 932 bytes spill loads\n",
      "\n"
     ]
    },
    {
     "name": "stderr",
     "output_type": "stream",
     "text": [
      "2025-10-21 12:04:43.465676: I external/local_xla/xla/stream_executor/cuda/subprocess_compilation.cc:346] ptxas warning : Registers are spilled to local memory in function 'gemm_fusion_dot_651', 2048 bytes spill stores, 2056 bytes spill loads\n",
      "\n"
     ]
    }
   ],
   "source": [
    "# Fine tune\n",
    "print(f\"Fine-tune epochs (unfrozen backbone): {args.epochs - warmup_epochs}\")\n",
    "clf.trainable = True\n",
    "M.compile(optimizer=tf.keras.optimizers.Adam(args.lr_finetune),\n",
    "          loss=\"sparse_categorical_crossentropy\",\n",
    "          metrics=[acc_metric, top5_metric])\n",
    "H2 = M.fit(train_ds, validation_data=val_ds,\n",
    "           initial_epoch=warmup_epochs, epochs=args.epochs,\n",
    "           callbacks=[reduce_cb, early_cb], verbose=0)"
   ]
  },
  {
   "cell_type": "code",
   "execution_count": 12,
   "id": "e63fdfde",
   "metadata": {
    "execution": {
     "iopub.execute_input": "2025-10-21T12:31:59.325578Z",
     "iopub.status.busy": "2025-10-21T12:31:59.325410Z",
     "iopub.status.idle": "2025-10-21T12:34:18.931386Z",
     "shell.execute_reply": "2025-10-21T12:34:18.929904Z"
    }
   },
   "outputs": [
    {
     "name": "stdout",
     "output_type": "stream",
     "text": [
      "Train accuracy : 97.27%\n",
      "Test accuracy  : 67.58%\n",
      "Test top-5     : 97.22%\n"
     ]
    }
   ],
   "source": [
    "H = merge_histories([H1, H2])\n",
    "\n",
    "# Evaluate\n",
    "train_metrics = M.evaluate(train_ds, return_dict=True, verbose=0)\n",
    "test_metrics  = M.evaluate(test_ds,  return_dict=True, verbose=0)\n",
    "\n",
    "acc_train = float(train_metrics[\"accuracy\"])\n",
    "acc_test  = float(test_metrics[\"accuracy\"])\n",
    "top5_test = test_metrics.get(\"top5\")\n",
    "\n",
    "print(f\"Train accuracy : {acc_train:.2%}\")\n",
    "print(f\"Test accuracy  : {acc_test:.2%}\")\n",
    "print(f\"Test top-5     : {top5_test:.2%}\")"
   ]
  },
  {
   "cell_type": "code",
   "execution_count": 13,
   "id": "0ec5c063",
   "metadata": {
    "execution": {
     "iopub.execute_input": "2025-10-21T12:34:18.935601Z",
     "iopub.status.busy": "2025-10-21T12:34:18.935275Z",
     "iopub.status.idle": "2025-10-21T12:34:19.097363Z",
     "shell.execute_reply": "2025-10-21T12:34:19.096644Z"
    }
   },
   "outputs": [
    {
     "data": {
      "image/png": "[encoded data removed]",
      "text/plain": [
       "<Figure size 1000x300 with 2 Axes>"
      ]
     },
     "metadata": {},
     "output_type": "display_data"
    }
   ],
   "source": [
    "plot_history(H)"
   ]
  },
  {
   "cell_type": "code",
   "execution_count": 14,
   "id": "f85cc84f",
   "metadata": {
    "execution": {
     "iopub.execute_input": "2025-10-21T12:34:19.101550Z",
     "iopub.status.busy": "2025-10-21T12:34:19.101421Z",
     "iopub.status.idle": "2025-10-21T12:34:55.152148Z",
     "shell.execute_reply": "2025-10-21T12:34:55.151405Z"
    }
   },
   "outputs": [
    {
     "name": "stderr",
     "output_type": "stream",
     "text": [
      "2025-10-21 14:34:19.467879: I tensorflow/core/framework/local_rendezvous.cc:407] Local rendezvous is aborting with status: OUT_OF_RANGE: End of sequence\n"
     ]
    },
    {
     "data": {
      "image/png": "[encoded data removed]",
      "text/plain": [
       "<Figure size 550x450 with 2 Axes>"
      ]
     },
     "metadata": {},
     "output_type": "display_data"
    }
   ],
   "source": [
    "# True labels\n",
    "y_true = []\n",
    "for _, y in test_ds:\n",
    "    y_true.append(y.numpy())\n",
    "y_true = np.concatenate(y_true, axis=0)\n",
    "\n",
    "# Predictions\n",
    "y_pred = np.argmax(M.predict(test_ds, verbose=0), axis=1)\n",
    "\n",
    "# Confusion matrix plot\n",
    "cm = confusion_matrix(y_true, y_pred, labels=list(range(num_classes)))\n",
    "plot_confusion_matrix(cm, class_names, normalize=True)"
   ]
  },
  {
   "cell_type": "code",
   "execution_count": 15,
   "id": "ebab3ce7",
   "metadata": {
    "execution": {
     "iopub.execute_input": "2025-10-21T12:34:55.155692Z",
     "iopub.status.busy": "2025-10-21T12:34:55.155555Z",
     "iopub.status.idle": "2025-10-21T12:34:55.165629Z",
     "shell.execute_reply": "2025-10-21T12:34:55.164972Z"
    }
   },
   "outputs": [
    {
     "name": "stdout",
     "output_type": "stream",
     "text": [
      "                    precision    recall  f1-score   support\n",
      "\n",
      "       art_nouveau      0.669     0.735     0.701      1000\n",
      "           baroque      0.810     0.723     0.764      1000\n",
      "     expressionism      0.590     0.521     0.553      1000\n",
      "     impressionism      0.575     0.399     0.471      1000\n",
      "post_impressionism      0.520     0.588     0.552      1000\n",
      "           realism      0.480     0.560     0.517      1000\n",
      "       renaissance      0.742     0.879     0.805      1000\n",
      "       romanticism      0.680     0.499     0.576      1000\n",
      "        surrealism      0.712     0.877     0.786      1000\n",
      "           ukiyo_e      0.993     0.977     0.985      1000\n",
      "\n",
      "          accuracy                          0.676     10000\n",
      "         macro avg      0.677     0.676     0.671     10000\n",
      "      weighted avg      0.677     0.676     0.671     10000\n",
      "\n"
     ]
    }
   ],
   "source": [
    "report = classification_report(\n",
    "    y_true, y_pred, target_names=class_names, digits=3\n",
    ")\n",
    "print(report)"
   ]
  }
 ],
 "metadata": {
  "kernelspec": {
   "display_name": "Python 3",
   "language": "python",
   "name": "python3"
  },
  "language_info": {
   "codemirror_mode": {
    "name": "ipython",
    "version": 3
   },
   "file_extension": ".py",
   "mimetype": "text/x-python",
   "name": "python",
   "nbconvert_exporter": "python",
   "pygments_lexer": "ipython3",
   "version": "3.10.18"
  }
 },
 "nbformat": 4,
 "nbformat_minor": 5
}
